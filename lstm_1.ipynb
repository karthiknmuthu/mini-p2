{
  "nbformat": 4,
  "nbformat_minor": 0,
  "metadata": {
    "colab": {
      "provenance": []
    },
    "kernelspec": {
      "name": "python3",
      "display_name": "Python 3"
    },
    "language_info": {
      "name": "python"
    }
  },
  "cells": [
    {
      "cell_type": "code",
      "execution_count": 1,
      "metadata": {
        "id": "tlArEfxCwcPW"
      },
      "outputs": [],
      "source": [
        "import numpy as np\n",
        "import pandas as pd\n",
        "import matplotlib.pyplot as plt\n",
        "from pandas_datareader import data as pdr\n",
        "import yfinance as yf\n",
        "from datetime import datetime\n"
      ]
    },
    {
      "cell_type": "code",
      "source": [
        "start = '202-01-01'\n",
        "endd = '2023-03-03'\n",
        "yf.pdr_override()\n",
        "y_symbols = ['AAPL']\n",
        "startdate = datetime(2010,1,1)\n",
        "enddate = datetime(2023,3,3)\n",
        "data = pdr.get_data_yahoo(y_symbols, startdate, enddate)\n",
        "data.head()"
      ],
      "metadata": {
        "colab": {
          "base_uri": "https://localhost:8080/",
          "height": 255
        },
        "id": "zX8nys9rGXd6",
        "outputId": "f76c590d-52a7-4691-cf71-1e0b963bc046"
      },
      "execution_count": 6,
      "outputs": [
        {
          "output_type": "stream",
          "name": "stdout",
          "text": [
            "\r[*********************100%***********************]  1 of 1 completed\n"
          ]
        },
        {
          "output_type": "execute_result",
          "data": {
            "text/plain": [
              "                Open      High       Low     Close  Adj Close     Volume\n",
              "Date                                                                    \n",
              "2010-01-04  7.622500  7.660714  7.585000  7.643214   6.505280  493729600\n",
              "2010-01-05  7.664286  7.699643  7.616071  7.656429   6.516527  601904800\n",
              "2010-01-06  7.656429  7.686786  7.526786  7.534643   6.412875  552160000\n",
              "2010-01-07  7.562500  7.571429  7.466071  7.520714   6.401016  477131200\n",
              "2010-01-08  7.510714  7.571429  7.466429  7.570714   6.443573  447610800"
            ],
            "text/html": [
              "\n",
              "  <div id=\"df-16ee79bb-1ff4-4c19-88c0-cb45d7d2a682\">\n",
              "    <div class=\"colab-df-container\">\n",
              "      <div>\n",
              "<style scoped>\n",
              "    .dataframe tbody tr th:only-of-type {\n",
              "        vertical-align: middle;\n",
              "    }\n",
              "\n",
              "    .dataframe tbody tr th {\n",
              "        vertical-align: top;\n",
              "    }\n",
              "\n",
              "    .dataframe thead th {\n",
              "        text-align: right;\n",
              "    }\n",
              "</style>\n",
              "<table border=\"1\" class=\"dataframe\">\n",
              "  <thead>\n",
              "    <tr style=\"text-align: right;\">\n",
              "      <th></th>\n",
              "      <th>Open</th>\n",
              "      <th>High</th>\n",
              "      <th>Low</th>\n",
              "      <th>Close</th>\n",
              "      <th>Adj Close</th>\n",
              "      <th>Volume</th>\n",
              "    </tr>\n",
              "    <tr>\n",
              "      <th>Date</th>\n",
              "      <th></th>\n",
              "      <th></th>\n",
              "      <th></th>\n",
              "      <th></th>\n",
              "      <th></th>\n",
              "      <th></th>\n",
              "    </tr>\n",
              "  </thead>\n",
              "  <tbody>\n",
              "    <tr>\n",
              "      <th>2010-01-04</th>\n",
              "      <td>7.622500</td>\n",
              "      <td>7.660714</td>\n",
              "      <td>7.585000</td>\n",
              "      <td>7.643214</td>\n",
              "      <td>6.505280</td>\n",
              "      <td>493729600</td>\n",
              "    </tr>\n",
              "    <tr>\n",
              "      <th>2010-01-05</th>\n",
              "      <td>7.664286</td>\n",
              "      <td>7.699643</td>\n",
              "      <td>7.616071</td>\n",
              "      <td>7.656429</td>\n",
              "      <td>6.516527</td>\n",
              "      <td>601904800</td>\n",
              "    </tr>\n",
              "    <tr>\n",
              "      <th>2010-01-06</th>\n",
              "      <td>7.656429</td>\n",
              "      <td>7.686786</td>\n",
              "      <td>7.526786</td>\n",
              "      <td>7.534643</td>\n",
              "      <td>6.412875</td>\n",
              "      <td>552160000</td>\n",
              "    </tr>\n",
              "    <tr>\n",
              "      <th>2010-01-07</th>\n",
              "      <td>7.562500</td>\n",
              "      <td>7.571429</td>\n",
              "      <td>7.466071</td>\n",
              "      <td>7.520714</td>\n",
              "      <td>6.401016</td>\n",
              "      <td>477131200</td>\n",
              "    </tr>\n",
              "    <tr>\n",
              "      <th>2010-01-08</th>\n",
              "      <td>7.510714</td>\n",
              "      <td>7.571429</td>\n",
              "      <td>7.466429</td>\n",
              "      <td>7.570714</td>\n",
              "      <td>6.443573</td>\n",
              "      <td>447610800</td>\n",
              "    </tr>\n",
              "  </tbody>\n",
              "</table>\n",
              "</div>\n",
              "      <button class=\"colab-df-convert\" onclick=\"convertToInteractive('df-16ee79bb-1ff4-4c19-88c0-cb45d7d2a682')\"\n",
              "              title=\"Convert this dataframe to an interactive table.\"\n",
              "              style=\"display:none;\">\n",
              "        \n",
              "  <svg xmlns=\"http://www.w3.org/2000/svg\" height=\"24px\"viewBox=\"0 0 24 24\"\n",
              "       width=\"24px\">\n",
              "    <path d=\"M0 0h24v24H0V0z\" fill=\"none\"/>\n",
              "    <path d=\"M18.56 5.44l.94 2.06.94-2.06 2.06-.94-2.06-.94-.94-2.06-.94 2.06-2.06.94zm-11 1L8.5 8.5l.94-2.06 2.06-.94-2.06-.94L8.5 2.5l-.94 2.06-2.06.94zm10 10l.94 2.06.94-2.06 2.06-.94-2.06-.94-.94-2.06-.94 2.06-2.06.94z\"/><path d=\"M17.41 7.96l-1.37-1.37c-.4-.4-.92-.59-1.43-.59-.52 0-1.04.2-1.43.59L10.3 9.45l-7.72 7.72c-.78.78-.78 2.05 0 2.83L4 21.41c.39.39.9.59 1.41.59.51 0 1.02-.2 1.41-.59l7.78-7.78 2.81-2.81c.8-.78.8-2.07 0-2.86zM5.41 20L4 18.59l7.72-7.72 1.47 1.35L5.41 20z\"/>\n",
              "  </svg>\n",
              "      </button>\n",
              "      \n",
              "  <style>\n",
              "    .colab-df-container {\n",
              "      display:flex;\n",
              "      flex-wrap:wrap;\n",
              "      gap: 12px;\n",
              "    }\n",
              "\n",
              "    .colab-df-convert {\n",
              "      background-color: #E8F0FE;\n",
              "      border: none;\n",
              "      border-radius: 50%;\n",
              "      cursor: pointer;\n",
              "      display: none;\n",
              "      fill: #1967D2;\n",
              "      height: 32px;\n",
              "      padding: 0 0 0 0;\n",
              "      width: 32px;\n",
              "    }\n",
              "\n",
              "    .colab-df-convert:hover {\n",
              "      background-color: #E2EBFA;\n",
              "      box-shadow: 0px 1px 2px rgba(60, 64, 67, 0.3), 0px 1px 3px 1px rgba(60, 64, 67, 0.15);\n",
              "      fill: #174EA6;\n",
              "    }\n",
              "\n",
              "    [theme=dark] .colab-df-convert {\n",
              "      background-color: #3B4455;\n",
              "      fill: #D2E3FC;\n",
              "    }\n",
              "\n",
              "    [theme=dark] .colab-df-convert:hover {\n",
              "      background-color: #434B5C;\n",
              "      box-shadow: 0px 1px 3px 1px rgba(0, 0, 0, 0.15);\n",
              "      filter: drop-shadow(0px 1px 2px rgba(0, 0, 0, 0.3));\n",
              "      fill: #FFFFFF;\n",
              "    }\n",
              "  </style>\n",
              "\n",
              "      <script>\n",
              "        const buttonEl =\n",
              "          document.querySelector('#df-16ee79bb-1ff4-4c19-88c0-cb45d7d2a682 button.colab-df-convert');\n",
              "        buttonEl.style.display =\n",
              "          google.colab.kernel.accessAllowed ? 'block' : 'none';\n",
              "\n",
              "        async function convertToInteractive(key) {\n",
              "          const element = document.querySelector('#df-16ee79bb-1ff4-4c19-88c0-cb45d7d2a682');\n",
              "          const dataTable =\n",
              "            await google.colab.kernel.invokeFunction('convertToInteractive',\n",
              "                                                     [key], {});\n",
              "          if (!dataTable) return;\n",
              "\n",
              "          const docLinkHtml = 'Like what you see? Visit the ' +\n",
              "            '<a target=\"_blank\" href=https://colab.research.google.com/notebooks/data_table.ipynb>data table notebook</a>'\n",
              "            + ' to learn more about interactive tables.';\n",
              "          element.innerHTML = '';\n",
              "          dataTable['output_type'] = 'display_data';\n",
              "          await google.colab.output.renderOutput(dataTable, element);\n",
              "          const docLink = document.createElement('div');\n",
              "          docLink.innerHTML = docLinkHtml;\n",
              "          element.appendChild(docLink);\n",
              "        }\n",
              "      </script>\n",
              "    </div>\n",
              "  </div>\n",
              "  "
            ]
          },
          "metadata": {},
          "execution_count": 6
        }
      ]
    },
    {
      "cell_type": "code",
      "source": [
        "data.tail()"
      ],
      "metadata": {
        "colab": {
          "base_uri": "https://localhost:8080/",
          "height": 238
        },
        "id": "nApy9tytKnfc",
        "outputId": "0662b31e-9842-480c-b77b-1f3c66eb0e3f"
      },
      "execution_count": 5,
      "outputs": [
        {
          "output_type": "execute_result",
          "data": {
            "text/plain": [
              "                  Open        High         Low       Close   Adj Close  \\\n",
              "Date                                                                     \n",
              "2023-02-24  147.110001  147.190002  145.720001  146.710007  146.710007   \n",
              "2023-02-27  147.710007  149.169998  147.449997  147.919998  147.919998   \n",
              "2023-02-28  147.050003  149.080002  146.830002  147.410004  147.410004   \n",
              "2023-03-01  146.830002  147.229996  145.009995  145.309998  145.309998   \n",
              "2023-03-02  144.380005  146.710007  143.899994  145.910004  145.910004   \n",
              "\n",
              "              Volume  \n",
              "Date                  \n",
              "2023-02-24  55469600  \n",
              "2023-02-27  44998500  \n",
              "2023-02-28  50547000  \n",
              "2023-03-01  55479000  \n",
              "2023-03-02  52238100  "
            ],
            "text/html": [
              "\n",
              "  <div id=\"df-38bc67a0-356b-497c-9f2d-3639d8164c81\">\n",
              "    <div class=\"colab-df-container\">\n",
              "      <div>\n",
              "<style scoped>\n",
              "    .dataframe tbody tr th:only-of-type {\n",
              "        vertical-align: middle;\n",
              "    }\n",
              "\n",
              "    .dataframe tbody tr th {\n",
              "        vertical-align: top;\n",
              "    }\n",
              "\n",
              "    .dataframe thead th {\n",
              "        text-align: right;\n",
              "    }\n",
              "</style>\n",
              "<table border=\"1\" class=\"dataframe\">\n",
              "  <thead>\n",
              "    <tr style=\"text-align: right;\">\n",
              "      <th></th>\n",
              "      <th>Open</th>\n",
              "      <th>High</th>\n",
              "      <th>Low</th>\n",
              "      <th>Close</th>\n",
              "      <th>Adj Close</th>\n",
              "      <th>Volume</th>\n",
              "    </tr>\n",
              "    <tr>\n",
              "      <th>Date</th>\n",
              "      <th></th>\n",
              "      <th></th>\n",
              "      <th></th>\n",
              "      <th></th>\n",
              "      <th></th>\n",
              "      <th></th>\n",
              "    </tr>\n",
              "  </thead>\n",
              "  <tbody>\n",
              "    <tr>\n",
              "      <th>2023-02-24</th>\n",
              "      <td>147.110001</td>\n",
              "      <td>147.190002</td>\n",
              "      <td>145.720001</td>\n",
              "      <td>146.710007</td>\n",
              "      <td>146.710007</td>\n",
              "      <td>55469600</td>\n",
              "    </tr>\n",
              "    <tr>\n",
              "      <th>2023-02-27</th>\n",
              "      <td>147.710007</td>\n",
              "      <td>149.169998</td>\n",
              "      <td>147.449997</td>\n",
              "      <td>147.919998</td>\n",
              "      <td>147.919998</td>\n",
              "      <td>44998500</td>\n",
              "    </tr>\n",
              "    <tr>\n",
              "      <th>2023-02-28</th>\n",
              "      <td>147.050003</td>\n",
              "      <td>149.080002</td>\n",
              "      <td>146.830002</td>\n",
              "      <td>147.410004</td>\n",
              "      <td>147.410004</td>\n",
              "      <td>50547000</td>\n",
              "    </tr>\n",
              "    <tr>\n",
              "      <th>2023-03-01</th>\n",
              "      <td>146.830002</td>\n",
              "      <td>147.229996</td>\n",
              "      <td>145.009995</td>\n",
              "      <td>145.309998</td>\n",
              "      <td>145.309998</td>\n",
              "      <td>55479000</td>\n",
              "    </tr>\n",
              "    <tr>\n",
              "      <th>2023-03-02</th>\n",
              "      <td>144.380005</td>\n",
              "      <td>146.710007</td>\n",
              "      <td>143.899994</td>\n",
              "      <td>145.910004</td>\n",
              "      <td>145.910004</td>\n",
              "      <td>52238100</td>\n",
              "    </tr>\n",
              "  </tbody>\n",
              "</table>\n",
              "</div>\n",
              "      <button class=\"colab-df-convert\" onclick=\"convertToInteractive('df-38bc67a0-356b-497c-9f2d-3639d8164c81')\"\n",
              "              title=\"Convert this dataframe to an interactive table.\"\n",
              "              style=\"display:none;\">\n",
              "        \n",
              "  <svg xmlns=\"http://www.w3.org/2000/svg\" height=\"24px\"viewBox=\"0 0 24 24\"\n",
              "       width=\"24px\">\n",
              "    <path d=\"M0 0h24v24H0V0z\" fill=\"none\"/>\n",
              "    <path d=\"M18.56 5.44l.94 2.06.94-2.06 2.06-.94-2.06-.94-.94-2.06-.94 2.06-2.06.94zm-11 1L8.5 8.5l.94-2.06 2.06-.94-2.06-.94L8.5 2.5l-.94 2.06-2.06.94zm10 10l.94 2.06.94-2.06 2.06-.94-2.06-.94-.94-2.06-.94 2.06-2.06.94z\"/><path d=\"M17.41 7.96l-1.37-1.37c-.4-.4-.92-.59-1.43-.59-.52 0-1.04.2-1.43.59L10.3 9.45l-7.72 7.72c-.78.78-.78 2.05 0 2.83L4 21.41c.39.39.9.59 1.41.59.51 0 1.02-.2 1.41-.59l7.78-7.78 2.81-2.81c.8-.78.8-2.07 0-2.86zM5.41 20L4 18.59l7.72-7.72 1.47 1.35L5.41 20z\"/>\n",
              "  </svg>\n",
              "      </button>\n",
              "      \n",
              "  <style>\n",
              "    .colab-df-container {\n",
              "      display:flex;\n",
              "      flex-wrap:wrap;\n",
              "      gap: 12px;\n",
              "    }\n",
              "\n",
              "    .colab-df-convert {\n",
              "      background-color: #E8F0FE;\n",
              "      border: none;\n",
              "      border-radius: 50%;\n",
              "      cursor: pointer;\n",
              "      display: none;\n",
              "      fill: #1967D2;\n",
              "      height: 32px;\n",
              "      padding: 0 0 0 0;\n",
              "      width: 32px;\n",
              "    }\n",
              "\n",
              "    .colab-df-convert:hover {\n",
              "      background-color: #E2EBFA;\n",
              "      box-shadow: 0px 1px 2px rgba(60, 64, 67, 0.3), 0px 1px 3px 1px rgba(60, 64, 67, 0.15);\n",
              "      fill: #174EA6;\n",
              "    }\n",
              "\n",
              "    [theme=dark] .colab-df-convert {\n",
              "      background-color: #3B4455;\n",
              "      fill: #D2E3FC;\n",
              "    }\n",
              "\n",
              "    [theme=dark] .colab-df-convert:hover {\n",
              "      background-color: #434B5C;\n",
              "      box-shadow: 0px 1px 3px 1px rgba(0, 0, 0, 0.15);\n",
              "      filter: drop-shadow(0px 1px 2px rgba(0, 0, 0, 0.3));\n",
              "      fill: #FFFFFF;\n",
              "    }\n",
              "  </style>\n",
              "\n",
              "      <script>\n",
              "        const buttonEl =\n",
              "          document.querySelector('#df-38bc67a0-356b-497c-9f2d-3639d8164c81 button.colab-df-convert');\n",
              "        buttonEl.style.display =\n",
              "          google.colab.kernel.accessAllowed ? 'block' : 'none';\n",
              "\n",
              "        async function convertToInteractive(key) {\n",
              "          const element = document.querySelector('#df-38bc67a0-356b-497c-9f2d-3639d8164c81');\n",
              "          const dataTable =\n",
              "            await google.colab.kernel.invokeFunction('convertToInteractive',\n",
              "                                                     [key], {});\n",
              "          if (!dataTable) return;\n",
              "\n",
              "          const docLinkHtml = 'Like what you see? Visit the ' +\n",
              "            '<a target=\"_blank\" href=https://colab.research.google.com/notebooks/data_table.ipynb>data table notebook</a>'\n",
              "            + ' to learn more about interactive tables.';\n",
              "          element.innerHTML = '';\n",
              "          dataTable['output_type'] = 'display_data';\n",
              "          await google.colab.output.renderOutput(dataTable, element);\n",
              "          const docLink = document.createElement('div');\n",
              "          docLink.innerHTML = docLinkHtml;\n",
              "          element.appendChild(docLink);\n",
              "        }\n",
              "      </script>\n",
              "    </div>\n",
              "  </div>\n",
              "  "
            ]
          },
          "metadata": {},
          "execution_count": 5
        }
      ]
    },
    {
      "cell_type": "code",
      "source": [
        "df=data.reset_index()\n",
        "df.head()"
      ],
      "metadata": {
        "colab": {
          "base_uri": "https://localhost:8080/",
          "height": 206
        },
        "id": "yWQxmCSjK6D7",
        "outputId": "440974c8-1477-4347-f354-50cbf1780aec"
      },
      "execution_count": 4,
      "outputs": [
        {
          "output_type": "execute_result",
          "data": {
            "text/plain": [
              "        Date      Open      High       Low     Close  Adj Close     Volume\n",
              "0 2010-01-04  7.622500  7.660714  7.585000  7.643214   6.505280  493729600\n",
              "1 2010-01-05  7.664286  7.699643  7.616071  7.656429   6.516527  601904800\n",
              "2 2010-01-06  7.656429  7.686786  7.526786  7.534643   6.412873  552160000\n",
              "3 2010-01-07  7.562500  7.571429  7.466071  7.520714   6.401019  477131200\n",
              "4 2010-01-08  7.510714  7.571429  7.466429  7.570714   6.443577  447610800"
            ],
            "text/html": [
              "\n",
              "  <div id=\"df-57887271-6299-4972-bfa6-b3f11e811a6b\">\n",
              "    <div class=\"colab-df-container\">\n",
              "      <div>\n",
              "<style scoped>\n",
              "    .dataframe tbody tr th:only-of-type {\n",
              "        vertical-align: middle;\n",
              "    }\n",
              "\n",
              "    .dataframe tbody tr th {\n",
              "        vertical-align: top;\n",
              "    }\n",
              "\n",
              "    .dataframe thead th {\n",
              "        text-align: right;\n",
              "    }\n",
              "</style>\n",
              "<table border=\"1\" class=\"dataframe\">\n",
              "  <thead>\n",
              "    <tr style=\"text-align: right;\">\n",
              "      <th></th>\n",
              "      <th>Date</th>\n",
              "      <th>Open</th>\n",
              "      <th>High</th>\n",
              "      <th>Low</th>\n",
              "      <th>Close</th>\n",
              "      <th>Adj Close</th>\n",
              "      <th>Volume</th>\n",
              "    </tr>\n",
              "  </thead>\n",
              "  <tbody>\n",
              "    <tr>\n",
              "      <th>0</th>\n",
              "      <td>2010-01-04</td>\n",
              "      <td>7.622500</td>\n",
              "      <td>7.660714</td>\n",
              "      <td>7.585000</td>\n",
              "      <td>7.643214</td>\n",
              "      <td>6.505280</td>\n",
              "      <td>493729600</td>\n",
              "    </tr>\n",
              "    <tr>\n",
              "      <th>1</th>\n",
              "      <td>2010-01-05</td>\n",
              "      <td>7.664286</td>\n",
              "      <td>7.699643</td>\n",
              "      <td>7.616071</td>\n",
              "      <td>7.656429</td>\n",
              "      <td>6.516527</td>\n",
              "      <td>601904800</td>\n",
              "    </tr>\n",
              "    <tr>\n",
              "      <th>2</th>\n",
              "      <td>2010-01-06</td>\n",
              "      <td>7.656429</td>\n",
              "      <td>7.686786</td>\n",
              "      <td>7.526786</td>\n",
              "      <td>7.534643</td>\n",
              "      <td>6.412873</td>\n",
              "      <td>552160000</td>\n",
              "    </tr>\n",
              "    <tr>\n",
              "      <th>3</th>\n",
              "      <td>2010-01-07</td>\n",
              "      <td>7.562500</td>\n",
              "      <td>7.571429</td>\n",
              "      <td>7.466071</td>\n",
              "      <td>7.520714</td>\n",
              "      <td>6.401019</td>\n",
              "      <td>477131200</td>\n",
              "    </tr>\n",
              "    <tr>\n",
              "      <th>4</th>\n",
              "      <td>2010-01-08</td>\n",
              "      <td>7.510714</td>\n",
              "      <td>7.571429</td>\n",
              "      <td>7.466429</td>\n",
              "      <td>7.570714</td>\n",
              "      <td>6.443577</td>\n",
              "      <td>447610800</td>\n",
              "    </tr>\n",
              "  </tbody>\n",
              "</table>\n",
              "</div>\n",
              "      <button class=\"colab-df-convert\" onclick=\"convertToInteractive('df-57887271-6299-4972-bfa6-b3f11e811a6b')\"\n",
              "              title=\"Convert this dataframe to an interactive table.\"\n",
              "              style=\"display:none;\">\n",
              "        \n",
              "  <svg xmlns=\"http://www.w3.org/2000/svg\" height=\"24px\"viewBox=\"0 0 24 24\"\n",
              "       width=\"24px\">\n",
              "    <path d=\"M0 0h24v24H0V0z\" fill=\"none\"/>\n",
              "    <path d=\"M18.56 5.44l.94 2.06.94-2.06 2.06-.94-2.06-.94-.94-2.06-.94 2.06-2.06.94zm-11 1L8.5 8.5l.94-2.06 2.06-.94-2.06-.94L8.5 2.5l-.94 2.06-2.06.94zm10 10l.94 2.06.94-2.06 2.06-.94-2.06-.94-.94-2.06-.94 2.06-2.06.94z\"/><path d=\"M17.41 7.96l-1.37-1.37c-.4-.4-.92-.59-1.43-.59-.52 0-1.04.2-1.43.59L10.3 9.45l-7.72 7.72c-.78.78-.78 2.05 0 2.83L4 21.41c.39.39.9.59 1.41.59.51 0 1.02-.2 1.41-.59l7.78-7.78 2.81-2.81c.8-.78.8-2.07 0-2.86zM5.41 20L4 18.59l7.72-7.72 1.47 1.35L5.41 20z\"/>\n",
              "  </svg>\n",
              "      </button>\n",
              "      \n",
              "  <style>\n",
              "    .colab-df-container {\n",
              "      display:flex;\n",
              "      flex-wrap:wrap;\n",
              "      gap: 12px;\n",
              "    }\n",
              "\n",
              "    .colab-df-convert {\n",
              "      background-color: #E8F0FE;\n",
              "      border: none;\n",
              "      border-radius: 50%;\n",
              "      cursor: pointer;\n",
              "      display: none;\n",
              "      fill: #1967D2;\n",
              "      height: 32px;\n",
              "      padding: 0 0 0 0;\n",
              "      width: 32px;\n",
              "    }\n",
              "\n",
              "    .colab-df-convert:hover {\n",
              "      background-color: #E2EBFA;\n",
              "      box-shadow: 0px 1px 2px rgba(60, 64, 67, 0.3), 0px 1px 3px 1px rgba(60, 64, 67, 0.15);\n",
              "      fill: #174EA6;\n",
              "    }\n",
              "\n",
              "    [theme=dark] .colab-df-convert {\n",
              "      background-color: #3B4455;\n",
              "      fill: #D2E3FC;\n",
              "    }\n",
              "\n",
              "    [theme=dark] .colab-df-convert:hover {\n",
              "      background-color: #434B5C;\n",
              "      box-shadow: 0px 1px 3px 1px rgba(0, 0, 0, 0.15);\n",
              "      filter: drop-shadow(0px 1px 2px rgba(0, 0, 0, 0.3));\n",
              "      fill: #FFFFFF;\n",
              "    }\n",
              "  </style>\n",
              "\n",
              "      <script>\n",
              "        const buttonEl =\n",
              "          document.querySelector('#df-57887271-6299-4972-bfa6-b3f11e811a6b button.colab-df-convert');\n",
              "        buttonEl.style.display =\n",
              "          google.colab.kernel.accessAllowed ? 'block' : 'none';\n",
              "\n",
              "        async function convertToInteractive(key) {\n",
              "          const element = document.querySelector('#df-57887271-6299-4972-bfa6-b3f11e811a6b');\n",
              "          const dataTable =\n",
              "            await google.colab.kernel.invokeFunction('convertToInteractive',\n",
              "                                                     [key], {});\n",
              "          if (!dataTable) return;\n",
              "\n",
              "          const docLinkHtml = 'Like what you see? Visit the ' +\n",
              "            '<a target=\"_blank\" href=https://colab.research.google.com/notebooks/data_table.ipynb>data table notebook</a>'\n",
              "            + ' to learn more about interactive tables.';\n",
              "          element.innerHTML = '';\n",
              "          dataTable['output_type'] = 'display_data';\n",
              "          await google.colab.output.renderOutput(dataTable, element);\n",
              "          const docLink = document.createElement('div');\n",
              "          docLink.innerHTML = docLinkHtml;\n",
              "          element.appendChild(docLink);\n",
              "        }\n",
              "      </script>\n",
              "    </div>\n",
              "  </div>\n",
              "  "
            ]
          },
          "metadata": {},
          "execution_count": 4
        }
      ]
    },
    {
      "cell_type": "code",
      "source": [
        "df =df.drop(['Date','Adj Close'],axis = 1)\n",
        "df.head()"
      ],
      "metadata": {
        "colab": {
          "base_uri": "https://localhost:8080/",
          "height": 206
        },
        "id": "EXa9J0JSLEHK",
        "outputId": "fb0e80e4-ebe3-4ca5-ad29-14e6c8d1fbee"
      },
      "execution_count": 7,
      "outputs": [
        {
          "output_type": "execute_result",
          "data": {
            "text/plain": [
              "       Open      High       Low     Close     Volume\n",
              "0  7.622500  7.660714  7.585000  7.643214  493729600\n",
              "1  7.664286  7.699643  7.616071  7.656429  601904800\n",
              "2  7.656429  7.686786  7.526786  7.534643  552160000\n",
              "3  7.562500  7.571429  7.466071  7.520714  477131200\n",
              "4  7.510714  7.571429  7.466429  7.570714  447610800"
            ],
            "text/html": [
              "\n",
              "  <div id=\"df-bca43b32-54b1-4976-8718-3586105f8a42\">\n",
              "    <div class=\"colab-df-container\">\n",
              "      <div>\n",
              "<style scoped>\n",
              "    .dataframe tbody tr th:only-of-type {\n",
              "        vertical-align: middle;\n",
              "    }\n",
              "\n",
              "    .dataframe tbody tr th {\n",
              "        vertical-align: top;\n",
              "    }\n",
              "\n",
              "    .dataframe thead th {\n",
              "        text-align: right;\n",
              "    }\n",
              "</style>\n",
              "<table border=\"1\" class=\"dataframe\">\n",
              "  <thead>\n",
              "    <tr style=\"text-align: right;\">\n",
              "      <th></th>\n",
              "      <th>Open</th>\n",
              "      <th>High</th>\n",
              "      <th>Low</th>\n",
              "      <th>Close</th>\n",
              "      <th>Volume</th>\n",
              "    </tr>\n",
              "  </thead>\n",
              "  <tbody>\n",
              "    <tr>\n",
              "      <th>0</th>\n",
              "      <td>7.622500</td>\n",
              "      <td>7.660714</td>\n",
              "      <td>7.585000</td>\n",
              "      <td>7.643214</td>\n",
              "      <td>493729600</td>\n",
              "    </tr>\n",
              "    <tr>\n",
              "      <th>1</th>\n",
              "      <td>7.664286</td>\n",
              "      <td>7.699643</td>\n",
              "      <td>7.616071</td>\n",
              "      <td>7.656429</td>\n",
              "      <td>601904800</td>\n",
              "    </tr>\n",
              "    <tr>\n",
              "      <th>2</th>\n",
              "      <td>7.656429</td>\n",
              "      <td>7.686786</td>\n",
              "      <td>7.526786</td>\n",
              "      <td>7.534643</td>\n",
              "      <td>552160000</td>\n",
              "    </tr>\n",
              "    <tr>\n",
              "      <th>3</th>\n",
              "      <td>7.562500</td>\n",
              "      <td>7.571429</td>\n",
              "      <td>7.466071</td>\n",
              "      <td>7.520714</td>\n",
              "      <td>477131200</td>\n",
              "    </tr>\n",
              "    <tr>\n",
              "      <th>4</th>\n",
              "      <td>7.510714</td>\n",
              "      <td>7.571429</td>\n",
              "      <td>7.466429</td>\n",
              "      <td>7.570714</td>\n",
              "      <td>447610800</td>\n",
              "    </tr>\n",
              "  </tbody>\n",
              "</table>\n",
              "</div>\n",
              "      <button class=\"colab-df-convert\" onclick=\"convertToInteractive('df-bca43b32-54b1-4976-8718-3586105f8a42')\"\n",
              "              title=\"Convert this dataframe to an interactive table.\"\n",
              "              style=\"display:none;\">\n",
              "        \n",
              "  <svg xmlns=\"http://www.w3.org/2000/svg\" height=\"24px\"viewBox=\"0 0 24 24\"\n",
              "       width=\"24px\">\n",
              "    <path d=\"M0 0h24v24H0V0z\" fill=\"none\"/>\n",
              "    <path d=\"M18.56 5.44l.94 2.06.94-2.06 2.06-.94-2.06-.94-.94-2.06-.94 2.06-2.06.94zm-11 1L8.5 8.5l.94-2.06 2.06-.94-2.06-.94L8.5 2.5l-.94 2.06-2.06.94zm10 10l.94 2.06.94-2.06 2.06-.94-2.06-.94-.94-2.06-.94 2.06-2.06.94z\"/><path d=\"M17.41 7.96l-1.37-1.37c-.4-.4-.92-.59-1.43-.59-.52 0-1.04.2-1.43.59L10.3 9.45l-7.72 7.72c-.78.78-.78 2.05 0 2.83L4 21.41c.39.39.9.59 1.41.59.51 0 1.02-.2 1.41-.59l7.78-7.78 2.81-2.81c.8-.78.8-2.07 0-2.86zM5.41 20L4 18.59l7.72-7.72 1.47 1.35L5.41 20z\"/>\n",
              "  </svg>\n",
              "      </button>\n",
              "      \n",
              "  <style>\n",
              "    .colab-df-container {\n",
              "      display:flex;\n",
              "      flex-wrap:wrap;\n",
              "      gap: 12px;\n",
              "    }\n",
              "\n",
              "    .colab-df-convert {\n",
              "      background-color: #E8F0FE;\n",
              "      border: none;\n",
              "      border-radius: 50%;\n",
              "      cursor: pointer;\n",
              "      display: none;\n",
              "      fill: #1967D2;\n",
              "      height: 32px;\n",
              "      padding: 0 0 0 0;\n",
              "      width: 32px;\n",
              "    }\n",
              "\n",
              "    .colab-df-convert:hover {\n",
              "      background-color: #E2EBFA;\n",
              "      box-shadow: 0px 1px 2px rgba(60, 64, 67, 0.3), 0px 1px 3px 1px rgba(60, 64, 67, 0.15);\n",
              "      fill: #174EA6;\n",
              "    }\n",
              "\n",
              "    [theme=dark] .colab-df-convert {\n",
              "      background-color: #3B4455;\n",
              "      fill: #D2E3FC;\n",
              "    }\n",
              "\n",
              "    [theme=dark] .colab-df-convert:hover {\n",
              "      background-color: #434B5C;\n",
              "      box-shadow: 0px 1px 3px 1px rgba(0, 0, 0, 0.15);\n",
              "      filter: drop-shadow(0px 1px 2px rgba(0, 0, 0, 0.3));\n",
              "      fill: #FFFFFF;\n",
              "    }\n",
              "  </style>\n",
              "\n",
              "      <script>\n",
              "        const buttonEl =\n",
              "          document.querySelector('#df-bca43b32-54b1-4976-8718-3586105f8a42 button.colab-df-convert');\n",
              "        buttonEl.style.display =\n",
              "          google.colab.kernel.accessAllowed ? 'block' : 'none';\n",
              "\n",
              "        async function convertToInteractive(key) {\n",
              "          const element = document.querySelector('#df-bca43b32-54b1-4976-8718-3586105f8a42');\n",
              "          const dataTable =\n",
              "            await google.colab.kernel.invokeFunction('convertToInteractive',\n",
              "                                                     [key], {});\n",
              "          if (!dataTable) return;\n",
              "\n",
              "          const docLinkHtml = 'Like what you see? Visit the ' +\n",
              "            '<a target=\"_blank\" href=https://colab.research.google.com/notebooks/data_table.ipynb>data table notebook</a>'\n",
              "            + ' to learn more about interactive tables.';\n",
              "          element.innerHTML = '';\n",
              "          dataTable['output_type'] = 'display_data';\n",
              "          await google.colab.output.renderOutput(dataTable, element);\n",
              "          const docLink = document.createElement('div');\n",
              "          docLink.innerHTML = docLinkHtml;\n",
              "          element.appendChild(docLink);\n",
              "        }\n",
              "      </script>\n",
              "    </div>\n",
              "  </div>\n",
              "  "
            ]
          },
          "metadata": {},
          "execution_count": 7
        }
      ]
    },
    {
      "cell_type": "code",
      "source": [
        "plt.plot(df.Close)"
      ],
      "metadata": {
        "colab": {
          "base_uri": "https://localhost:8080/",
          "height": 447
        },
        "id": "_lS1k3XkLQTv",
        "outputId": "6271077e-313c-48e4-cdd7-b5012ae2f703"
      },
      "execution_count": 8,
      "outputs": [
        {
          "output_type": "execute_result",
          "data": {
            "text/plain": [
              "[<matplotlib.lines.Line2D at 0x7f72b5692940>]"
            ]
          },
          "metadata": {},
          "execution_count": 8
        },
        {
          "output_type": "display_data",
          "data": {
            "text/plain": [
              "<Figure size 640x480 with 1 Axes>"
            ],
            "image/png": "[encoded data removed]"
          },
          "metadata": {}
        }
      ]
    },
    {
      "cell_type": "code",
      "source": [
        "df"
      ],
      "metadata": {
        "colab": {
          "base_uri": "https://localhost:8080/",
          "height": 424
        },
        "id": "lzSK2RYWLZrv",
        "outputId": "8d5ecc9c-3ae5-4100-d4ea-6b4c20b6641d"
      },
      "execution_count": 9,
      "outputs": [
        {
          "output_type": "execute_result",
          "data": {
            "text/plain": [
              "            Open        High         Low       Close     Volume\n",
              "0       7.622500    7.660714    7.585000    7.643214  493729600\n",
              "1       7.664286    7.699643    7.616071    7.656429  601904800\n",
              "2       7.656429    7.686786    7.526786    7.534643  552160000\n",
              "3       7.562500    7.571429    7.466071    7.520714  477131200\n",
              "4       7.510714    7.571429    7.466429    7.570714  447610800\n",
              "...          ...         ...         ...         ...        ...\n",
              "3308  147.110001  147.190002  145.720001  146.710007   55469600\n",
              "3309  147.710007  149.169998  147.449997  147.919998   44998500\n",
              "3310  147.050003  149.080002  146.830002  147.410004   50547000\n",
              "3311  146.830002  147.229996  145.009995  145.309998   55479000\n",
              "3312  144.380005  146.710007  143.899994  145.910004   52238100\n",
              "\n",
              "[3313 rows x 5 columns]"
            ],
            "text/html": [
              "\n",
              "  <div id=\"df-c0692b52-5c27-48f5-ae5f-f6efbd4bb3ee\">\n",
              "    <div class=\"colab-df-container\">\n",
              "      <div>\n",
              "<style scoped>\n",
              "    .dataframe tbody tr th:only-of-type {\n",
              "        vertical-align: middle;\n",
              "    }\n",
              "\n",
              "    .dataframe tbody tr th {\n",
              "        vertical-align: top;\n",
              "    }\n",
              "\n",
              "    .dataframe thead th {\n",
              "        text-align: right;\n",
              "    }\n",
              "</style>\n",
              "<table border=\"1\" class=\"dataframe\">\n",
              "  <thead>\n",
              "    <tr style=\"text-align: right;\">\n",
              "      <th></th>\n",
              "      <th>Open</th>\n",
              "      <th>High</th>\n",
              "      <th>Low</th>\n",
              "      <th>Close</th>\n",
              "      <th>Volume</th>\n",
              "    </tr>\n",
              "  </thead>\n",
              "  <tbody>\n",
              "    <tr>\n",
              "      <th>0</th>\n",
              "      <td>7.622500</td>\n",
              "      <td>7.660714</td>\n",
              "      <td>7.585000</td>\n",
              "      <td>7.643214</td>\n",
              "      <td>493729600</td>\n",
              "    </tr>\n",
              "    <tr>\n",
              "      <th>1</th>\n",
              "      <td>7.664286</td>\n",
              "      <td>7.699643</td>\n",
              "      <td>7.616071</td>\n",
              "      <td>7.656429</td>\n",
              "      <td>601904800</td>\n",
              "    </tr>\n",
              "    <tr>\n",
              "      <th>2</th>\n",
              "      <td>7.656429</td>\n",
              "      <td>7.686786</td>\n",
              "      <td>7.526786</td>\n",
              "      <td>7.534643</td>\n",
              "      <td>552160000</td>\n",
              "    </tr>\n",
              "    <tr>\n",
              "      <th>3</th>\n",
              "      <td>7.562500</td>\n",
              "      <td>7.571429</td>\n",
              "      <td>7.466071</td>\n",
              "      <td>7.520714</td>\n",
              "      <td>477131200</td>\n",
              "    </tr>\n",
              "    <tr>\n",
              "      <th>4</th>\n",
              "      <td>7.510714</td>\n",
              "      <td>7.571429</td>\n",
              "      <td>7.466429</td>\n",
              "      <td>7.570714</td>\n",
              "      <td>447610800</td>\n",
              "    </tr>\n",
              "    <tr>\n",
              "      <th>...</th>\n",
              "      <td>...</td>\n",
              "      <td>...</td>\n",
              "      <td>...</td>\n",
              "      <td>...</td>\n",
              "      <td>...</td>\n",
              "    </tr>\n",
              "    <tr>\n",
              "      <th>3308</th>\n",
              "      <td>147.110001</td>\n",
              "      <td>147.190002</td>\n",
              "      <td>145.720001</td>\n",
              "      <td>146.710007</td>\n",
              "      <td>55469600</td>\n",
              "    </tr>\n",
              "    <tr>\n",
              "      <th>3309</th>\n",
              "      <td>147.710007</td>\n",
              "      <td>149.169998</td>\n",
              "      <td>147.449997</td>\n",
              "      <td>147.919998</td>\n",
              "      <td>44998500</td>\n",
              "    </tr>\n",
              "    <tr>\n",
              "      <th>3310</th>\n",
              "      <td>147.050003</td>\n",
              "      <td>149.080002</td>\n",
              "      <td>146.830002</td>\n",
              "      <td>147.410004</td>\n",
              "      <td>50547000</td>\n",
              "    </tr>\n",
              "    <tr>\n",
              "      <th>3311</th>\n",
              "      <td>146.830002</td>\n",
              "      <td>147.229996</td>\n",
              "      <td>145.009995</td>\n",
              "      <td>145.309998</td>\n",
              "      <td>55479000</td>\n",
              "    </tr>\n",
              "    <tr>\n",
              "      <th>3312</th>\n",
              "      <td>144.380005</td>\n",
              "      <td>146.710007</td>\n",
              "      <td>143.899994</td>\n",
              "      <td>145.910004</td>\n",
              "      <td>52238100</td>\n",
              "    </tr>\n",
              "  </tbody>\n",
              "</table>\n",
              "<p>3313 rows × 5 columns</p>\n",
              "</div>\n",
              "      <button class=\"colab-df-convert\" onclick=\"convertToInteractive('df-c0692b52-5c27-48f5-ae5f-f6efbd4bb3ee')\"\n",
              "              title=\"Convert this dataframe to an interactive table.\"\n",
              "              style=\"display:none;\">\n",
              "        \n",
              "  <svg xmlns=\"http://www.w3.org/2000/svg\" height=\"24px\"viewBox=\"0 0 24 24\"\n",
              "       width=\"24px\">\n",
              "    <path d=\"M0 0h24v24H0V0z\" fill=\"none\"/>\n",
              "    <path d=\"M18.56 5.44l.94 2.06.94-2.06 2.06-.94-2.06-.94-.94-2.06-.94 2.06-2.06.94zm-11 1L8.5 8.5l.94-2.06 2.06-.94-2.06-.94L8.5 2.5l-.94 2.06-2.06.94zm10 10l.94 2.06.94-2.06 2.06-.94-2.06-.94-.94-2.06-.94 2.06-2.06.94z\"/><path d=\"M17.41 7.96l-1.37-1.37c-.4-.4-.92-.59-1.43-.59-.52 0-1.04.2-1.43.59L10.3 9.45l-7.72 7.72c-.78.78-.78 2.05 0 2.83L4 21.41c.39.39.9.59 1.41.59.51 0 1.02-.2 1.41-.59l7.78-7.78 2.81-2.81c.8-.78.8-2.07 0-2.86zM5.41 20L4 18.59l7.72-7.72 1.47 1.35L5.41 20z\"/>\n",
              "  </svg>\n",
              "      </button>\n",
              "      \n",
              "  <style>\n",
              "    .colab-df-container {\n",
              "      display:flex;\n",
              "      flex-wrap:wrap;\n",
              "      gap: 12px;\n",
              "    }\n",
              "\n",
              "    .colab-df-convert {\n",
              "      background-color: #E8F0FE;\n",
              "      border: none;\n",
              "      border-radius: 50%;\n",
              "      cursor: pointer;\n",
              "      display: none;\n",
              "      fill: #1967D2;\n",
              "      height: 32px;\n",
              "      padding: 0 0 0 0;\n",
              "      width: 32px;\n",
              "    }\n",
              "\n",
              "    .colab-df-convert:hover {\n",
              "      background-color: #E2EBFA;\n",
              "      box-shadow: 0px 1px 2px rgba(60, 64, 67, 0.3), 0px 1px 3px 1px rgba(60, 64, 67, 0.15);\n",
              "      fill: #174EA6;\n",
              "    }\n",
              "\n",
              "    [theme=dark] .colab-df-convert {\n",
              "      background-color: #3B4455;\n",
              "      fill: #D2E3FC;\n",
              "    }\n",
              "\n",
              "    [theme=dark] .colab-df-convert:hover {\n",
              "      background-color: #434B5C;\n",
              "      box-shadow: 0px 1px 3px 1px rgba(0, 0, 0, 0.15);\n",
              "      filter: drop-shadow(0px 1px 2px rgba(0, 0, 0, 0.3));\n",
              "      fill: #FFFFFF;\n",
              "    }\n",
              "  </style>\n",
              "\n",
              "      <script>\n",
              "        const buttonEl =\n",
              "          document.querySelector('#df-c0692b52-5c27-48f5-ae5f-f6efbd4bb3ee button.colab-df-convert');\n",
              "        buttonEl.style.display =\n",
              "          google.colab.kernel.accessAllowed ? 'block' : 'none';\n",
              "\n",
              "        async function convertToInteractive(key) {\n",
              "          const element = document.querySelector('#df-c0692b52-5c27-48f5-ae5f-f6efbd4bb3ee');\n",
              "          const dataTable =\n",
              "            await google.colab.kernel.invokeFunction('convertToInteractive',\n",
              "                                                     [key], {});\n",
              "          if (!dataTable) return;\n",
              "\n",
              "          const docLinkHtml = 'Like what you see? Visit the ' +\n",
              "            '<a target=\"_blank\" href=https://colab.research.google.com/notebooks/data_table.ipynb>data table notebook</a>'\n",
              "            + ' to learn more about interactive tables.';\n",
              "          element.innerHTML = '';\n",
              "          dataTable['output_type'] = 'display_data';\n",
              "          await google.colab.output.renderOutput(dataTable, element);\n",
              "          const docLink = document.createElement('div');\n",
              "          docLink.innerHTML = docLinkHtml;\n",
              "          element.appendChild(docLink);\n",
              "        }\n",
              "      </script>\n",
              "    </div>\n",
              "  </div>\n",
              "  "
            ]
          },
          "metadata": {},
          "execution_count": 9
        }
      ]
    },
    {
      "cell_type": "code",
      "source": [
        "ma100 =df.Close.rolling(100).mean()\n",
        "ma100"
      ],
      "metadata": {
        "colab": {
          "base_uri": "https://localhost:8080/"
        },
        "id": "WhC_FEv2LcM9",
        "outputId": "57abc4e4-6ffd-4059-89a1-e4ed3db3d5e7"
      },
      "execution_count": 10,
      "outputs": [
        {
          "output_type": "execute_result",
          "data": {
            "text/plain": [
              "0              NaN\n",
              "1              NaN\n",
              "2              NaN\n",
              "3              NaN\n",
              "4              NaN\n",
              "           ...    \n",
              "3308    142.920499\n",
              "3309    142.975199\n",
              "3310    142.988299\n",
              "3311    142.977399\n",
              "3312    142.982199\n",
              "Name: Close, Length: 3313, dtype: float64"
            ]
          },
          "metadata": {},
          "execution_count": 10
        }
      ]
    },
    {
      "cell_type": "code",
      "source": [
        "plt.figure(figsize=(12,6))\n",
        "plt.plot(df.Close)\n",
        "plt.plot(ma100,'red')"
      ],
      "metadata": {
        "colab": {
          "base_uri": "https://localhost:8080/",
          "height": 539
        },
        "id": "pNsn0w7NLmve",
        "outputId": "e7766dd4-caa0-4554-932d-edb66c59223f"
      },
      "execution_count": 11,
      "outputs": [
        {
          "output_type": "execute_result",
          "data": {
            "text/plain": [
              "[<matplotlib.lines.Line2D at 0x7f72b355a070>]"
            ]
          },
          "metadata": {},
          "execution_count": 11
        },
        {
          "output_type": "display_data",
          "data": {
            "text/plain": [
              "<Figure size 1200x600 with 1 Axes>"
            ],
            "image/png": "[encoded data removed]"
          },
          "metadata": {}
        }
      ]
    },
    {
      "cell_type": "code",
      "source": [
        "ma200 =df.Close.rolling(200).mean()\n",
        "ma200"
      ],
      "metadata": {
        "colab": {
          "base_uri": "https://localhost:8080/"
        },
        "id": "By-kVfGOL1_W",
        "outputId": "df3415f3-fc2a-4bbe-fd74-1aeba3b54285"
      },
      "execution_count": 12,
      "outputs": [
        {
          "output_type": "execute_result",
          "data": {
            "text/plain": [
              "0             NaN\n",
              "1             NaN\n",
              "2             NaN\n",
              "3             NaN\n",
              "4             NaN\n",
              "          ...    \n",
              "3308    147.20060\n",
              "3309    147.16765\n",
              "3310    147.17220\n",
              "3311    147.18595\n",
              "3312    147.17995\n",
              "Name: Close, Length: 3313, dtype: float64"
            ]
          },
          "metadata": {},
          "execution_count": 12
        }
      ]
    },
    {
      "cell_type": "code",
      "source": [
        "plt.figure(figsize=(12,6))\n",
        "plt.plot(df.Close)\n",
        "plt.plot(ma100,'red')\n",
        "plt.plot(ma200,'green')"
      ],
      "metadata": {
        "colab": {
          "base_uri": "https://localhost:8080/",
          "height": 539
        },
        "id": "YjJX8r0NMAgA",
        "outputId": "6b74efa5-085f-4dca-aac6-3a18b58a9d27"
      },
      "execution_count": 13,
      "outputs": [
        {
          "output_type": "execute_result",
          "data": {
            "text/plain": [
              "[<matplotlib.lines.Line2D at 0x7f72b321eac0>]"
            ]
          },
          "metadata": {},
          "execution_count": 13
        },
        {
          "output_type": "display_data",
          "data": {
            "text/plain": [
              "<Figure size 1200x600 with 1 Axes>"
            ],
            "image/png": "[encoded data removed]"
          },
          "metadata": {}
        }
      ]
    },
    {
      "cell_type": "code",
      "source": [
        "df.shape"
      ],
      "metadata": {
        "colab": {
          "base_uri": "https://localhost:8080/"
        },
        "id": "SYT2S1XfMKSK",
        "outputId": "0ba86754-0e67-45ff-e0bb-484ae6bfb3ea"
      },
      "execution_count": 14,
      "outputs": [
        {
          "output_type": "execute_result",
          "data": {
            "text/plain": [
              "(3313, 5)"
            ]
          },
          "metadata": {},
          "execution_count": 14
        }
      ]
    },
    {
      "cell_type": "code",
      "source": [
        "#Splitting data into traning and testing\n",
        "data_training = pd.DataFrame(df['Close'][0:int(len(df)*0.70)])\n",
        "data_testing = pd.DataFrame(df['Close'][int(len(df)*0.70):int(len(df))])\n",
        "\n",
        "print(data_training.shape)\n",
        "print(data_testing.shape)"
      ],
      "metadata": {
        "colab": {
          "base_uri": "https://localhost:8080/"
        },
        "id": "BM77UOORMNeH",
        "outputId": "fc9e2622-2f56-4723-e639-ea7bf8c8f9e9"
      },
      "execution_count": 15,
      "outputs": [
        {
          "output_type": "stream",
          "name": "stdout",
          "text": [
            "(2319, 1)\n",
            "(994, 1)\n"
          ]
        }
      ]
    },
    {
      "cell_type": "code",
      "source": [
        "data_training.head()"
      ],
      "metadata": {
        "colab": {
          "base_uri": "https://localhost:8080/",
          "height": 206
        },
        "id": "jNZNvitJNHUH",
        "outputId": "1f2b90e9-ea79-4f40-c3e2-dba5990e17b3"
      },
      "execution_count": 16,
      "outputs": [
        {
          "output_type": "execute_result",
          "data": {
            "text/plain": [
              "      Close\n",
              "0  7.643214\n",
              "1  7.656429\n",
              "2  7.534643\n",
              "3  7.520714\n",
              "4  7.570714"
            ],
            "text/html": [
              "\n",
              "  <div id=\"df-7b74589b-b25f-4607-a7ea-d41ccea109ce\">\n",
              "    <div class=\"colab-df-container\">\n",
              "      <div>\n",
              "<style scoped>\n",
              "    .dataframe tbody tr th:only-of-type {\n",
              "        vertical-align: middle;\n",
              "    }\n",
              "\n",
              "    .dataframe tbody tr th {\n",
              "        vertical-align: top;\n",
              "    }\n",
              "\n",
              "    .dataframe thead th {\n",
              "        text-align: right;\n",
              "    }\n",
              "</style>\n",
              "<table border=\"1\" class=\"dataframe\">\n",
              "  <thead>\n",
              "    <tr style=\"text-align: right;\">\n",
              "      <th></th>\n",
              "      <th>Close</th>\n",
              "    </tr>\n",
              "  </thead>\n",
              "  <tbody>\n",
              "    <tr>\n",
              "      <th>0</th>\n",
              "      <td>7.643214</td>\n",
              "    </tr>\n",
              "    <tr>\n",
              "      <th>1</th>\n",
              "      <td>7.656429</td>\n",
              "    </tr>\n",
              "    <tr>\n",
              "      <th>2</th>\n",
              "      <td>7.534643</td>\n",
              "    </tr>\n",
              "    <tr>\n",
              "      <th>3</th>\n",
              "      <td>7.520714</td>\n",
              "    </tr>\n",
              "    <tr>\n",
              "      <th>4</th>\n",
              "      <td>7.570714</td>\n",
              "    </tr>\n",
              "  </tbody>\n",
              "</table>\n",
              "</div>\n",
              "      <button class=\"colab-df-convert\" onclick=\"convertToInteractive('df-7b74589b-b25f-4607-a7ea-d41ccea109ce')\"\n",
              "              title=\"Convert this dataframe to an interactive table.\"\n",
              "              style=\"display:none;\">\n",
              "        \n",
              "  <svg xmlns=\"http://www.w3.org/2000/svg\" height=\"24px\"viewBox=\"0 0 24 24\"\n",
              "       width=\"24px\">\n",
              "    <path d=\"M0 0h24v24H0V0z\" fill=\"none\"/>\n",
              "    <path d=\"M18.56 5.44l.94 2.06.94-2.06 2.06-.94-2.06-.94-.94-2.06-.94 2.06-2.06.94zm-11 1L8.5 8.5l.94-2.06 2.06-.94-2.06-.94L8.5 2.5l-.94 2.06-2.06.94zm10 10l.94 2.06.94-2.06 2.06-.94-2.06-.94-.94-2.06-.94 2.06-2.06.94z\"/><path d=\"M17.41 7.96l-1.37-1.37c-.4-.4-.92-.59-1.43-.59-.52 0-1.04.2-1.43.59L10.3 9.45l-7.72 7.72c-.78.78-.78 2.05 0 2.83L4 21.41c.39.39.9.59 1.41.59.51 0 1.02-.2 1.41-.59l7.78-7.78 2.81-2.81c.8-.78.8-2.07 0-2.86zM5.41 20L4 18.59l7.72-7.72 1.47 1.35L5.41 20z\"/>\n",
              "  </svg>\n",
              "      </button>\n",
              "      \n",
              "  <style>\n",
              "    .colab-df-container {\n",
              "      display:flex;\n",
              "      flex-wrap:wrap;\n",
              "      gap: 12px;\n",
              "    }\n",
              "\n",
              "    .colab-df-convert {\n",
              "      background-color: #E8F0FE;\n",
              "      border: none;\n",
              "      border-radius: 50%;\n",
              "      cursor: pointer;\n",
              "      display: none;\n",
              "      fill: #1967D2;\n",
              "      height: 32px;\n",
              "      padding: 0 0 0 0;\n",
              "      width: 32px;\n",
              "    }\n",
              "\n",
              "    .colab-df-convert:hover {\n",
              "      background-color: #E2EBFA;\n",
              "      box-shadow: 0px 1px 2px rgba(60, 64, 67, 0.3), 0px 1px 3px 1px rgba(60, 64, 67, 0.15);\n",
              "      fill: #174EA6;\n",
              "    }\n",
              "\n",
              "    [theme=dark] .colab-df-convert {\n",
              "      background-color: #3B4455;\n",
              "      fill: #D2E3FC;\n",
              "    }\n",
              "\n",
              "    [theme=dark] .colab-df-convert:hover {\n",
              "      background-color: #434B5C;\n",
              "      box-shadow: 0px 1px 3px 1px rgba(0, 0, 0, 0.15);\n",
              "      filter: drop-shadow(0px 1px 2px rgba(0, 0, 0, 0.3));\n",
              "      fill: #FFFFFF;\n",
              "    }\n",
              "  </style>\n",
              "\n",
              "      <script>\n",
              "        const buttonEl =\n",
              "          document.querySelector('#df-7b74589b-b25f-4607-a7ea-d41ccea109ce button.colab-df-convert');\n",
              "        buttonEl.style.display =\n",
              "          google.colab.kernel.accessAllowed ? 'block' : 'none';\n",
              "\n",
              "        async function convertToInteractive(key) {\n",
              "          const element = document.querySelector('#df-7b74589b-b25f-4607-a7ea-d41ccea109ce');\n",
              "          const dataTable =\n",
              "            await google.colab.kernel.invokeFunction('convertToInteractive',\n",
              "                                                     [key], {});\n",
              "          if (!dataTable) return;\n",
              "\n",
              "          const docLinkHtml = 'Like what you see? Visit the ' +\n",
              "            '<a target=\"_blank\" href=https://colab.research.google.com/notebooks/data_table.ipynb>data table notebook</a>'\n",
              "            + ' to learn more about interactive tables.';\n",
              "          element.innerHTML = '';\n",
              "          dataTable['output_type'] = 'display_data';\n",
              "          await google.colab.output.renderOutput(dataTable, element);\n",
              "          const docLink = document.createElement('div');\n",
              "          docLink.innerHTML = docLinkHtml;\n",
              "          element.appendChild(docLink);\n",
              "        }\n",
              "      </script>\n",
              "    </div>\n",
              "  </div>\n",
              "  "
            ]
          },
          "metadata": {},
          "execution_count": 16
        }
      ]
    },
    {
      "cell_type": "code",
      "source": [
        "data_testing.head()"
      ],
      "metadata": {
        "colab": {
          "base_uri": "https://localhost:8080/",
          "height": 206
        },
        "id": "55UylhMGNOUN",
        "outputId": "bdf1beac-f44a-4c91-8354-028a5a0bf4f9"
      },
      "execution_count": 17,
      "outputs": [
        {
          "output_type": "execute_result",
          "data": {
            "text/plain": [
              "          Close\n",
              "2319  47.762501\n",
              "2320  47.185001\n",
              "2321  46.697498\n",
              "2322  47.117500\n",
              "2323  47.180000"
            ],
            "text/html": [
              "\n",
              "  <div id=\"df-650c6e0a-2f85-440d-b02d-5fe41884a238\">\n",
              "    <div class=\"colab-df-container\">\n",
              "      <div>\n",
              "<style scoped>\n",
              "    .dataframe tbody tr th:only-of-type {\n",
              "        vertical-align: middle;\n",
              "    }\n",
              "\n",
              "    .dataframe tbody tr th {\n",
              "        vertical-align: top;\n",
              "    }\n",
              "\n",
              "    .dataframe thead th {\n",
              "        text-align: right;\n",
              "    }\n",
              "</style>\n",
              "<table border=\"1\" class=\"dataframe\">\n",
              "  <thead>\n",
              "    <tr style=\"text-align: right;\">\n",
              "      <th></th>\n",
              "      <th>Close</th>\n",
              "    </tr>\n",
              "  </thead>\n",
              "  <tbody>\n",
              "    <tr>\n",
              "      <th>2319</th>\n",
              "      <td>47.762501</td>\n",
              "    </tr>\n",
              "    <tr>\n",
              "      <th>2320</th>\n",
              "      <td>47.185001</td>\n",
              "    </tr>\n",
              "    <tr>\n",
              "      <th>2321</th>\n",
              "      <td>46.697498</td>\n",
              "    </tr>\n",
              "    <tr>\n",
              "      <th>2322</th>\n",
              "      <td>47.117500</td>\n",
              "    </tr>\n",
              "    <tr>\n",
              "      <th>2323</th>\n",
              "      <td>47.180000</td>\n",
              "    </tr>\n",
              "  </tbody>\n",
              "</table>\n",
              "</div>\n",
              "      <button class=\"colab-df-convert\" onclick=\"convertToInteractive('df-650c6e0a-2f85-440d-b02d-5fe41884a238')\"\n",
              "              title=\"Convert this dataframe to an interactive table.\"\n",
              "              style=\"display:none;\">\n",
              "        \n",
              "  <svg xmlns=\"http://www.w3.org/2000/svg\" height=\"24px\"viewBox=\"0 0 24 24\"\n",
              "       width=\"24px\">\n",
              "    <path d=\"M0 0h24v24H0V0z\" fill=\"none\"/>\n",
              "    <path d=\"M18.56 5.44l.94 2.06.94-2.06 2.06-.94-2.06-.94-.94-2.06-.94 2.06-2.06.94zm-11 1L8.5 8.5l.94-2.06 2.06-.94-2.06-.94L8.5 2.5l-.94 2.06-2.06.94zm10 10l.94 2.06.94-2.06 2.06-.94-2.06-.94-.94-2.06-.94 2.06-2.06.94z\"/><path d=\"M17.41 7.96l-1.37-1.37c-.4-.4-.92-.59-1.43-.59-.52 0-1.04.2-1.43.59L10.3 9.45l-7.72 7.72c-.78.78-.78 2.05 0 2.83L4 21.41c.39.39.9.59 1.41.59.51 0 1.02-.2 1.41-.59l7.78-7.78 2.81-2.81c.8-.78.8-2.07 0-2.86zM5.41 20L4 18.59l7.72-7.72 1.47 1.35L5.41 20z\"/>\n",
              "  </svg>\n",
              "      </button>\n",
              "      \n",
              "  <style>\n",
              "    .colab-df-container {\n",
              "      display:flex;\n",
              "      flex-wrap:wrap;\n",
              "      gap: 12px;\n",
              "    }\n",
              "\n",
              "    .colab-df-convert {\n",
              "      background-color: #E8F0FE;\n",
              "      border: none;\n",
              "      border-radius: 50%;\n",
              "      cursor: pointer;\n",
              "      display: none;\n",
              "      fill: #1967D2;\n",
              "      height: 32px;\n",
              "      padding: 0 0 0 0;\n",
              "      width: 32px;\n",
              "    }\n",
              "\n",
              "    .colab-df-convert:hover {\n",
              "      background-color: #E2EBFA;\n",
              "      box-shadow: 0px 1px 2px rgba(60, 64, 67, 0.3), 0px 1px 3px 1px rgba(60, 64, 67, 0.15);\n",
              "      fill: #174EA6;\n",
              "    }\n",
              "\n",
              "    [theme=dark] .colab-df-convert {\n",
              "      background-color: #3B4455;\n",
              "      fill: #D2E3FC;\n",
              "    }\n",
              "\n",
              "    [theme=dark] .colab-df-convert:hover {\n",
              "      background-color: #434B5C;\n",
              "      box-shadow: 0px 1px 3px 1px rgba(0, 0, 0, 0.15);\n",
              "      filter: drop-shadow(0px 1px 2px rgba(0, 0, 0, 0.3));\n",
              "      fill: #FFFFFF;\n",
              "    }\n",
              "  </style>\n",
              "\n",
              "      <script>\n",
              "        const buttonEl =\n",
              "          document.querySelector('#df-650c6e0a-2f85-440d-b02d-5fe41884a238 button.colab-df-convert');\n",
              "        buttonEl.style.display =\n",
              "          google.colab.kernel.accessAllowed ? 'block' : 'none';\n",
              "\n",
              "        async function convertToInteractive(key) {\n",
              "          const element = document.querySelector('#df-650c6e0a-2f85-440d-b02d-5fe41884a238');\n",
              "          const dataTable =\n",
              "            await google.colab.kernel.invokeFunction('convertToInteractive',\n",
              "                                                     [key], {});\n",
              "          if (!dataTable) return;\n",
              "\n",
              "          const docLinkHtml = 'Like what you see? Visit the ' +\n",
              "            '<a target=\"_blank\" href=https://colab.research.google.com/notebooks/data_table.ipynb>data table notebook</a>'\n",
              "            + ' to learn more about interactive tables.';\n",
              "          element.innerHTML = '';\n",
              "          dataTable['output_type'] = 'display_data';\n",
              "          await google.colab.output.renderOutput(dataTable, element);\n",
              "          const docLink = document.createElement('div');\n",
              "          docLink.innerHTML = docLinkHtml;\n",
              "          element.appendChild(docLink);\n",
              "        }\n",
              "      </script>\n",
              "    </div>\n",
              "  </div>\n",
              "  "
            ]
          },
          "metadata": {},
          "execution_count": 17
        }
      ]
    },
    {
      "cell_type": "code",
      "source": [
        "from sklearn.preprocessing import MinMaxScaler\n",
        "scaler = MinMaxScaler(feature_range=(0,1))"
      ],
      "metadata": {
        "id": "H4b8LzIaNR5e"
      },
      "execution_count": 18,
      "outputs": []
    },
    {
      "cell_type": "code",
      "source": [
        "data_training_array=scaler.fit_transform(data_training)\n",
        "data_training_array"
      ],
      "metadata": {
        "colab": {
          "base_uri": "https://localhost:8080/"
        },
        "id": "13-kqB4FNnZf",
        "outputId": "a097f4c7-9a6a-4221-81a4-38d9b3fd5803"
      },
      "execution_count": 19,
      "outputs": [
        {
          "output_type": "execute_result",
          "data": {
            "text/plain": [
              "array([[0.01533047],\n",
              "       [0.01558878],\n",
              "       [0.01320823],\n",
              "       ...,\n",
              "       [0.77745661],\n",
              "       [0.78542206],\n",
              "       [0.81928732]])"
            ]
          },
          "metadata": {},
          "execution_count": 19
        }
      ]
    },
    {
      "cell_type": "code",
      "source": [
        "data_training_array.shape"
      ],
      "metadata": {
        "colab": {
          "base_uri": "https://localhost:8080/"
        },
        "id": "dVMzahERObOP",
        "outputId": "37b1af21-9a74-4c0a-8c8d-02171d23048c"
      },
      "execution_count": 20,
      "outputs": [
        {
          "output_type": "execute_result",
          "data": {
            "text/plain": [
              "(2319, 1)"
            ]
          },
          "metadata": {},
          "execution_count": 20
        }
      ]
    },
    {
      "cell_type": "code",
      "source": [
        "x_train =[]\n",
        "y_train =[]\n",
        "\n",
        "for i in range(100,data_training_array.shape[0]):\n",
        "  x_train.append(data_training_array[i-100:i])\n",
        "  y_train.append(data_training_array[i,0])\n",
        "\n",
        "x_train ,y_train=np.array(x_train),np.array(y_train) "
      ],
      "metadata": {
        "id": "vszYY68zN1yL"
      },
      "execution_count": 21,
      "outputs": []
    },
    {
      "cell_type": "code",
      "source": [
        "x_train.shape"
      ],
      "metadata": {
        "colab": {
          "base_uri": "https://localhost:8080/"
        },
        "id": "aa254EvFbtjj",
        "outputId": "26f75818-dd4d-4ff9-ceb9-99d7f5348622"
      },
      "execution_count": 22,
      "outputs": [
        {
          "output_type": "execute_result",
          "data": {
            "text/plain": [
              "(2219, 100, 1)"
            ]
          },
          "metadata": {},
          "execution_count": 22
        }
      ]
    },
    {
      "cell_type": "code",
      "source": [
        "from keras.layers import Dense,Dropout,LSTM\n",
        "from keras.models import Sequential"
      ],
      "metadata": {
        "id": "lx5g927hO09z"
      },
      "execution_count": 23,
      "outputs": []
    },
    {
      "cell_type": "code",
      "source": [
        "from google.colab import drive\n",
        "drive.mount('/content/drive')"
      ],
      "metadata": {
        "id": "dkIcB4eguhIU",
        "colab": {
          "base_uri": "https://localhost:8080/"
        },
        "outputId": "0695b1b8-5dc8-4157-d3a3-a02900da5b5a"
      },
      "execution_count": 24,
      "outputs": [
        {
          "output_type": "stream",
          "name": "stdout",
          "text": [
            "Mounted at /content/drive\n"
          ]
        }
      ]
    },
    {
      "cell_type": "code",
      "source": [
        "model =Sequential()\n",
        "model.add(LSTM(units= 50,activation ='relu',return_sequences=True,input_shape=(x_train.shape[1],1)))\n",
        "model.add(Dropout(0.2))\n",
        "\n",
        "\n",
        "model.add(LSTM(units= 60,activation ='relu',return_sequences=True))\n",
        "model.add(Dropout(0.3))\n",
        "\n",
        "\n",
        "model.add(LSTM(units= 80,activation ='relu',return_sequences=True))\n",
        "model.add(Dropout(0.4))\n",
        "\n",
        "\n",
        "model.add(LSTM(units= 100,activation ='relu'))\n",
        "model.add(Dropout(0.5))\n",
        "\n",
        "model.add(Dense(units = 1))"
      ],
      "metadata": {
        "id": "HcG_E0EbPSxo"
      },
      "execution_count": 25,
      "outputs": []
    },
    {
      "cell_type": "code",
      "source": [
        "model.summary()"
      ],
      "metadata": {
        "colab": {
          "base_uri": "https://localhost:8080/"
        },
        "id": "TeNOpnMTQalw",
        "outputId": "0dc006c3-bae5-4ed7-d679-d95a7f052eae"
      },
      "execution_count": 26,
      "outputs": [
        {
          "output_type": "stream",
          "name": "stdout",
          "text": [
            "Model: \"sequential\"\n",
            "_________________________________________________________________\n",
            " Layer (type)                Output Shape              Param #   \n",
            "=================================================================\n",
            " lstm (LSTM)                 (None, 100, 50)           10400     \n",
            "                                                                 \n",
            " dropout (Dropout)           (None, 100, 50)           0         \n",
            "                                                                 \n",
            " lstm_1 (LSTM)               (None, 100, 60)           26640     \n",
            "                                                                 \n",
            " dropout_1 (Dropout)         (None, 100, 60)           0         \n",
            "                                                                 \n",
            " lstm_2 (LSTM)               (None, 100, 80)           45120     \n",
            "                                                                 \n",
            " dropout_2 (Dropout)         (None, 100, 80)           0         \n",
            "                                                                 \n",
            " lstm_3 (LSTM)               (None, 100)               72400     \n",
            "                                                                 \n",
            " dropout_3 (Dropout)         (None, 100)               0         \n",
            "                                                                 \n",
            " dense (Dense)               (None, 1)                 101       \n",
            "                                                                 \n",
            "=================================================================\n",
            "Total params: 154,661\n",
            "Trainable params: 154,661\n",
            "Non-trainable params: 0\n",
            "_________________________________________________________________\n"
          ]
        }
      ]
    },
    {
      "cell_type": "code",
      "source": [
        "model.compile(optimizer='adam',loss='mean_squared_error')\n",
        "model.fit(x_train,y_train,epochs=50)"
      ],
      "metadata": {
        "colab": {
          "base_uri": "https://localhost:8080/"
        },
        "id": "lAnakKImQeMC",
        "outputId": "a31d25c8-b260-445c-8d9a-29e3da76e2e9"
      },
      "execution_count": 27,
      "outputs": [
        {
          "output_type": "stream",
          "name": "stdout",
          "text": [
            "Epoch 1/50\n",
            "70/70 [==============================] - 27s 295ms/step - loss: 0.0312\n",
            "Epoch 2/50\n",
            "70/70 [==============================] - 30s 432ms/step - loss: 0.0065\n",
            "Epoch 3/50\n",
            "70/70 [==============================] - 20s 288ms/step - loss: 0.0062\n",
            "Epoch 4/50\n",
            "70/70 [==============================] - 22s 312ms/step - loss: 0.0066\n",
            "Epoch 5/50\n",
            "70/70 [==============================] - 20s 286ms/step - loss: 0.0051\n",
            "Epoch 6/50\n",
            "70/70 [==============================] - 23s 335ms/step - loss: 0.0049\n",
            "Epoch 7/50\n",
            "70/70 [==============================] - 20s 289ms/step - loss: 0.0047\n",
            "Epoch 8/50\n",
            "70/70 [==============================] - 22s 314ms/step - loss: 0.0047\n",
            "Epoch 9/50\n",
            "70/70 [==============================] - 20s 287ms/step - loss: 0.0044\n",
            "Epoch 10/50\n",
            "70/70 [==============================] - 22s 310ms/step - loss: 0.0043\n",
            "Epoch 11/50\n",
            "70/70 [==============================] - 21s 294ms/step - loss: 0.0038\n",
            "Epoch 12/50\n",
            "70/70 [==============================] - 20s 284ms/step - loss: 0.0034\n",
            "Epoch 13/50\n",
            "70/70 [==============================] - 24s 346ms/step - loss: 0.0040\n",
            "Epoch 14/50\n",
            "70/70 [==============================] - 20s 291ms/step - loss: 0.0039\n",
            "Epoch 15/50\n",
            "70/70 [==============================] - 22s 314ms/step - loss: 0.0033\n",
            "Epoch 16/50\n",
            "70/70 [==============================] - 20s 286ms/step - loss: 0.0032\n",
            "Epoch 17/50\n",
            "70/70 [==============================] - 22s 309ms/step - loss: 0.0031\n",
            "Epoch 18/50\n",
            "70/70 [==============================] - 20s 290ms/step - loss: 0.0029\n",
            "Epoch 19/50\n",
            "70/70 [==============================] - 20s 288ms/step - loss: 0.0028\n",
            "Epoch 20/50\n",
            "70/70 [==============================] - 22s 311ms/step - loss: 0.0027\n",
            "Epoch 21/50\n",
            "70/70 [==============================] - 20s 287ms/step - loss: 0.0030\n",
            "Epoch 22/50\n",
            "70/70 [==============================] - 22s 315ms/step - loss: 0.0030\n",
            "Epoch 23/50\n",
            "70/70 [==============================] - 20s 286ms/step - loss: 0.0024\n",
            "Epoch 24/50\n",
            "70/70 [==============================] - 21s 305ms/step - loss: 0.0027\n",
            "Epoch 25/50\n",
            "70/70 [==============================] - 21s 294ms/step - loss: 0.0024\n",
            "Epoch 26/50\n",
            "70/70 [==============================] - 20s 286ms/step - loss: 0.0024\n",
            "Epoch 27/50\n",
            "70/70 [==============================] - 22s 315ms/step - loss: 0.0023\n",
            "Epoch 28/50\n",
            "70/70 [==============================] - 20s 287ms/step - loss: 0.0021\n",
            "Epoch 29/50\n",
            "70/70 [==============================] - 22s 313ms/step - loss: 0.0026\n",
            "Epoch 30/50\n",
            "70/70 [==============================] - 20s 289ms/step - loss: 0.0024\n",
            "Epoch 31/50\n",
            "70/70 [==============================] - 21s 298ms/step - loss: 0.0021\n",
            "Epoch 32/50\n",
            "70/70 [==============================] - 21s 300ms/step - loss: 0.0020\n",
            "Epoch 33/50\n",
            "70/70 [==============================] - 20s 286ms/step - loss: 0.0022\n",
            "Epoch 34/50\n",
            "70/70 [==============================] - 22s 313ms/step - loss: 0.0024\n",
            "Epoch 35/50\n",
            "70/70 [==============================] - 20s 284ms/step - loss: 0.0023\n",
            "Epoch 36/50\n",
            "70/70 [==============================] - 22s 311ms/step - loss: 0.0021\n",
            "Epoch 37/50\n",
            "70/70 [==============================] - 20s 284ms/step - loss: 0.0021\n",
            "Epoch 38/50\n",
            "70/70 [==============================] - 21s 293ms/step - loss: 0.0020\n",
            "Epoch 39/50\n",
            "70/70 [==============================] - 21s 304ms/step - loss: 0.0018\n",
            "Epoch 40/50\n",
            "70/70 [==============================] - 20s 291ms/step - loss: 0.0020\n",
            "Epoch 41/50\n",
            "70/70 [==============================] - 22s 318ms/step - loss: 0.0018\n",
            "Epoch 42/50\n",
            "70/70 [==============================] - 22s 318ms/step - loss: 0.0020\n",
            "Epoch 43/50\n",
            "70/70 [==============================] - 22s 317ms/step - loss: 0.0019\n",
            "Epoch 44/50\n",
            "70/70 [==============================] - 20s 286ms/step - loss: 0.0019\n",
            "Epoch 45/50\n",
            "70/70 [==============================] - 22s 314ms/step - loss: 0.0020\n",
            "Epoch 46/50\n",
            "70/70 [==============================] - 20s 285ms/step - loss: 0.0019\n",
            "Epoch 47/50\n",
            "70/70 [==============================] - 21s 295ms/step - loss: 0.0018\n",
            "Epoch 48/50\n",
            "70/70 [==============================] - 21s 301ms/step - loss: 0.0019\n",
            "Epoch 49/50\n",
            "70/70 [==============================] - 20s 286ms/step - loss: 0.0019\n",
            "Epoch 50/50\n",
            "70/70 [==============================] - 22s 316ms/step - loss: 0.0018\n"
          ]
        },
        {
          "output_type": "execute_result",
          "data": {
            "text/plain": [
              "<keras.callbacks.History at 0x7f7254245100>"
            ]
          },
          "metadata": {},
          "execution_count": 27
        }
      ]
    },
    {
      "cell_type": "code",
      "source": [
        "model.save('/content/drive/MyDrive/model/keras_models.h5')"
      ],
      "metadata": {
        "id": "5WKozKAlQssv"
      },
      "execution_count": 28,
      "outputs": []
    },
    {
      "cell_type": "code",
      "source": [
        "data_testing.head()"
      ],
      "metadata": {
        "colab": {
          "base_uri": "https://localhost:8080/",
          "height": 206
        },
        "id": "9FVH7_ToU2p6",
        "outputId": "31381536-3342-4a56-ee83-83b08e8336c1"
      },
      "execution_count": 29,
      "outputs": [
        {
          "output_type": "execute_result",
          "data": {
            "text/plain": [
              "          Close\n",
              "2319  47.762501\n",
              "2320  47.185001\n",
              "2321  46.697498\n",
              "2322  47.117500\n",
              "2323  47.180000"
            ],
            "text/html": [
              "\n",
              "  <div id=\"df-e0210c53-3e89-4313-8daa-30c6a1777a13\">\n",
              "    <div class=\"colab-df-container\">\n",
              "      <div>\n",
              "<style scoped>\n",
              "    .dataframe tbody tr th:only-of-type {\n",
              "        vertical-align: middle;\n",
              "    }\n",
              "\n",
              "    .dataframe tbody tr th {\n",
              "        vertical-align: top;\n",
              "    }\n",
              "\n",
              "    .dataframe thead th {\n",
              "        text-align: right;\n",
              "    }\n",
              "</style>\n",
              "<table border=\"1\" class=\"dataframe\">\n",
              "  <thead>\n",
              "    <tr style=\"text-align: right;\">\n",
              "      <th></th>\n",
              "      <th>Close</th>\n",
              "    </tr>\n",
              "  </thead>\n",
              "  <tbody>\n",
              "    <tr>\n",
              "      <th>2319</th>\n",
              "      <td>47.762501</td>\n",
              "    </tr>\n",
              "    <tr>\n",
              "      <th>2320</th>\n",
              "      <td>47.185001</td>\n",
              "    </tr>\n",
              "    <tr>\n",
              "      <th>2321</th>\n",
              "      <td>46.697498</td>\n",
              "    </tr>\n",
              "    <tr>\n",
              "      <th>2322</th>\n",
              "      <td>47.117500</td>\n",
              "    </tr>\n",
              "    <tr>\n",
              "      <th>2323</th>\n",
              "      <td>47.180000</td>\n",
              "    </tr>\n",
              "  </tbody>\n",
              "</table>\n",
              "</div>\n",
              "      <button class=\"colab-df-convert\" onclick=\"convertToInteractive('df-e0210c53-3e89-4313-8daa-30c6a1777a13')\"\n",
              "              title=\"Convert this dataframe to an interactive table.\"\n",
              "              style=\"display:none;\">\n",
              "        \n",
              "  <svg xmlns=\"http://www.w3.org/2000/svg\" height=\"24px\"viewBox=\"0 0 24 24\"\n",
              "       width=\"24px\">\n",
              "    <path d=\"M0 0h24v24H0V0z\" fill=\"none\"/>\n",
              "    <path d=\"M18.56 5.44l.94 2.06.94-2.06 2.06-.94-2.06-.94-.94-2.06-.94 2.06-2.06.94zm-11 1L8.5 8.5l.94-2.06 2.06-.94-2.06-.94L8.5 2.5l-.94 2.06-2.06.94zm10 10l.94 2.06.94-2.06 2.06-.94-2.06-.94-.94-2.06-.94 2.06-2.06.94z\"/><path d=\"M17.41 7.96l-1.37-1.37c-.4-.4-.92-.59-1.43-.59-.52 0-1.04.2-1.43.59L10.3 9.45l-7.72 7.72c-.78.78-.78 2.05 0 2.83L4 21.41c.39.39.9.59 1.41.59.51 0 1.02-.2 1.41-.59l7.78-7.78 2.81-2.81c.8-.78.8-2.07 0-2.86zM5.41 20L4 18.59l7.72-7.72 1.47 1.35L5.41 20z\"/>\n",
              "  </svg>\n",
              "      </button>\n",
              "      \n",
              "  <style>\n",
              "    .colab-df-container {\n",
              "      display:flex;\n",
              "      flex-wrap:wrap;\n",
              "      gap: 12px;\n",
              "    }\n",
              "\n",
              "    .colab-df-convert {\n",
              "      background-color: #E8F0FE;\n",
              "      border: none;\n",
              "      border-radius: 50%;\n",
              "      cursor: pointer;\n",
              "      display: none;\n",
              "      fill: #1967D2;\n",
              "      height: 32px;\n",
              "      padding: 0 0 0 0;\n",
              "      width: 32px;\n",
              "    }\n",
              "\n",
              "    .colab-df-convert:hover {\n",
              "      background-color: #E2EBFA;\n",
              "      box-shadow: 0px 1px 2px rgba(60, 64, 67, 0.3), 0px 1px 3px 1px rgba(60, 64, 67, 0.15);\n",
              "      fill: #174EA6;\n",
              "    }\n",
              "\n",
              "    [theme=dark] .colab-df-convert {\n",
              "      background-color: #3B4455;\n",
              "      fill: #D2E3FC;\n",
              "    }\n",
              "\n",
              "    [theme=dark] .colab-df-convert:hover {\n",
              "      background-color: #434B5C;\n",
              "      box-shadow: 0px 1px 3px 1px rgba(0, 0, 0, 0.15);\n",
              "      filter: drop-shadow(0px 1px 2px rgba(0, 0, 0, 0.3));\n",
              "      fill: #FFFFFF;\n",
              "    }\n",
              "  </style>\n",
              "\n",
              "      <script>\n",
              "        const buttonEl =\n",
              "          document.querySelector('#df-e0210c53-3e89-4313-8daa-30c6a1777a13 button.colab-df-convert');\n",
              "        buttonEl.style.display =\n",
              "          google.colab.kernel.accessAllowed ? 'block' : 'none';\n",
              "\n",
              "        async function convertToInteractive(key) {\n",
              "          const element = document.querySelector('#df-e0210c53-3e89-4313-8daa-30c6a1777a13');\n",
              "          const dataTable =\n",
              "            await google.colab.kernel.invokeFunction('convertToInteractive',\n",
              "                                                     [key], {});\n",
              "          if (!dataTable) return;\n",
              "\n",
              "          const docLinkHtml = 'Like what you see? Visit the ' +\n",
              "            '<a target=\"_blank\" href=https://colab.research.google.com/notebooks/data_table.ipynb>data table notebook</a>'\n",
              "            + ' to learn more about interactive tables.';\n",
              "          element.innerHTML = '';\n",
              "          dataTable['output_type'] = 'display_data';\n",
              "          await google.colab.output.renderOutput(dataTable, element);\n",
              "          const docLink = document.createElement('div');\n",
              "          docLink.innerHTML = docLinkHtml;\n",
              "          element.appendChild(docLink);\n",
              "        }\n",
              "      </script>\n",
              "    </div>\n",
              "  </div>\n",
              "  "
            ]
          },
          "metadata": {},
          "execution_count": 29
        }
      ]
    },
    {
      "cell_type": "code",
      "source": [
        "data_training.tail()"
      ],
      "metadata": {
        "colab": {
          "base_uri": "https://localhost:8080/",
          "height": 206
        },
        "id": "atACZK6UVFOb",
        "outputId": "fa168a6a-2a18-458e-ec5a-a93123e159d2"
      },
      "execution_count": 30,
      "outputs": [
        {
          "output_type": "execute_result",
          "data": {
            "text/plain": [
              "          Close\n",
              "2314  46.529999\n",
              "2315  47.005001\n",
              "2316  46.632500\n",
              "2317  47.040001\n",
              "2318  48.772499"
            ],
            "text/html": [
              "\n",
              "  <div id=\"df-5abf6af5-20a3-4401-b405-98d52dd05bbd\">\n",
              "    <div class=\"colab-df-container\">\n",
              "      <div>\n",
              "<style scoped>\n",
              "    .dataframe tbody tr th:only-of-type {\n",
              "        vertical-align: middle;\n",
              "    }\n",
              "\n",
              "    .dataframe tbody tr th {\n",
              "        vertical-align: top;\n",
              "    }\n",
              "\n",
              "    .dataframe thead th {\n",
              "        text-align: right;\n",
              "    }\n",
              "</style>\n",
              "<table border=\"1\" class=\"dataframe\">\n",
              "  <thead>\n",
              "    <tr style=\"text-align: right;\">\n",
              "      <th></th>\n",
              "      <th>Close</th>\n",
              "    </tr>\n",
              "  </thead>\n",
              "  <tbody>\n",
              "    <tr>\n",
              "      <th>2314</th>\n",
              "      <td>46.529999</td>\n",
              "    </tr>\n",
              "    <tr>\n",
              "      <th>2315</th>\n",
              "      <td>47.005001</td>\n",
              "    </tr>\n",
              "    <tr>\n",
              "      <th>2316</th>\n",
              "      <td>46.632500</td>\n",
              "    </tr>\n",
              "    <tr>\n",
              "      <th>2317</th>\n",
              "      <td>47.040001</td>\n",
              "    </tr>\n",
              "    <tr>\n",
              "      <th>2318</th>\n",
              "      <td>48.772499</td>\n",
              "    </tr>\n",
              "  </tbody>\n",
              "</table>\n",
              "</div>\n",
              "      <button class=\"colab-df-convert\" onclick=\"convertToInteractive('df-5abf6af5-20a3-4401-b405-98d52dd05bbd')\"\n",
              "              title=\"Convert this dataframe to an interactive table.\"\n",
              "              style=\"display:none;\">\n",
              "        \n",
              "  <svg xmlns=\"http://www.w3.org/2000/svg\" height=\"24px\"viewBox=\"0 0 24 24\"\n",
              "       width=\"24px\">\n",
              "    <path d=\"M0 0h24v24H0V0z\" fill=\"none\"/>\n",
              "    <path d=\"M18.56 5.44l.94 2.06.94-2.06 2.06-.94-2.06-.94-.94-2.06-.94 2.06-2.06.94zm-11 1L8.5 8.5l.94-2.06 2.06-.94-2.06-.94L8.5 2.5l-.94 2.06-2.06.94zm10 10l.94 2.06.94-2.06 2.06-.94-2.06-.94-.94-2.06-.94 2.06-2.06.94z\"/><path d=\"M17.41 7.96l-1.37-1.37c-.4-.4-.92-.59-1.43-.59-.52 0-1.04.2-1.43.59L10.3 9.45l-7.72 7.72c-.78.78-.78 2.05 0 2.83L4 21.41c.39.39.9.59 1.41.59.51 0 1.02-.2 1.41-.59l7.78-7.78 2.81-2.81c.8-.78.8-2.07 0-2.86zM5.41 20L4 18.59l7.72-7.72 1.47 1.35L5.41 20z\"/>\n",
              "  </svg>\n",
              "      </button>\n",
              "      \n",
              "  <style>\n",
              "    .colab-df-container {\n",
              "      display:flex;\n",
              "      flex-wrap:wrap;\n",
              "      gap: 12px;\n",
              "    }\n",
              "\n",
              "    .colab-df-convert {\n",
              "      background-color: #E8F0FE;\n",
              "      border: none;\n",
              "      border-radius: 50%;\n",
              "      cursor: pointer;\n",
              "      display: none;\n",
              "      fill: #1967D2;\n",
              "      height: 32px;\n",
              "      padding: 0 0 0 0;\n",
              "      width: 32px;\n",
              "    }\n",
              "\n",
              "    .colab-df-convert:hover {\n",
              "      background-color: #E2EBFA;\n",
              "      box-shadow: 0px 1px 2px rgba(60, 64, 67, 0.3), 0px 1px 3px 1px rgba(60, 64, 67, 0.15);\n",
              "      fill: #174EA6;\n",
              "    }\n",
              "\n",
              "    [theme=dark] .colab-df-convert {\n",
              "      background-color: #3B4455;\n",
              "      fill: #D2E3FC;\n",
              "    }\n",
              "\n",
              "    [theme=dark] .colab-df-convert:hover {\n",
              "      background-color: #434B5C;\n",
              "      box-shadow: 0px 1px 3px 1px rgba(0, 0, 0, 0.15);\n",
              "      filter: drop-shadow(0px 1px 2px rgba(0, 0, 0, 0.3));\n",
              "      fill: #FFFFFF;\n",
              "    }\n",
              "  </style>\n",
              "\n",
              "      <script>\n",
              "        const buttonEl =\n",
              "          document.querySelector('#df-5abf6af5-20a3-4401-b405-98d52dd05bbd button.colab-df-convert');\n",
              "        buttonEl.style.display =\n",
              "          google.colab.kernel.accessAllowed ? 'block' : 'none';\n",
              "\n",
              "        async function convertToInteractive(key) {\n",
              "          const element = document.querySelector('#df-5abf6af5-20a3-4401-b405-98d52dd05bbd');\n",
              "          const dataTable =\n",
              "            await google.colab.kernel.invokeFunction('convertToInteractive',\n",
              "                                                     [key], {});\n",
              "          if (!dataTable) return;\n",
              "\n",
              "          const docLinkHtml = 'Like what you see? Visit the ' +\n",
              "            '<a target=\"_blank\" href=https://colab.research.google.com/notebooks/data_table.ipynb>data table notebook</a>'\n",
              "            + ' to learn more about interactive tables.';\n",
              "          element.innerHTML = '';\n",
              "          dataTable['output_type'] = 'display_data';\n",
              "          await google.colab.output.renderOutput(dataTable, element);\n",
              "          const docLink = document.createElement('div');\n",
              "          docLink.innerHTML = docLinkHtml;\n",
              "          element.appendChild(docLink);\n",
              "        }\n",
              "      </script>\n",
              "    </div>\n",
              "  </div>\n",
              "  "
            ]
          },
          "metadata": {},
          "execution_count": 30
        }
      ]
    },
    {
      "cell_type": "code",
      "source": [
        "past_100_days=data_training.tail(100)"
      ],
      "metadata": {
        "id": "RaWCk1ZdU7QS"
      },
      "execution_count": 31,
      "outputs": []
    },
    {
      "cell_type": "code",
      "source": [
        "#final_df=past_100_days.append(data_testing,ignore_index=True)\n",
        "#df = pd.concat([df, pd.DataFrame.from_records([{ 'a': 1, 'b': 2 }])])\n",
        "final_df=pd.concat([past_100_days,data_testing],ignore_index=True)"
      ],
      "metadata": {
        "id": "U7ibsR7cVEcs"
      },
      "execution_count": 32,
      "outputs": []
    },
    {
      "cell_type": "code",
      "source": [
        "final_df.head()"
      ],
      "metadata": {
        "colab": {
          "base_uri": "https://localhost:8080/",
          "height": 206
        },
        "id": "Tjm7WtXAVYfM",
        "outputId": "2ee90f5f-dfe0-4083-9589-973eb88b3941"
      },
      "execution_count": 33,
      "outputs": [
        {
          "output_type": "execute_result",
          "data": {
            "text/plain": [
              "       Close\n",
              "0  54.950001\n",
              "1  54.075001\n",
              "2  53.060001\n",
              "3  53.325001\n",
              "4  54.715000"
            ],
            "text/html": [
              "\n",
              "  <div id=\"df-68f45f26-8aa3-42c7-8c1c-b214013a1e03\">\n",
              "    <div class=\"colab-df-container\">\n",
              "      <div>\n",
              "<style scoped>\n",
              "    .dataframe tbody tr th:only-of-type {\n",
              "        vertical-align: middle;\n",
              "    }\n",
              "\n",
              "    .dataframe tbody tr th {\n",
              "        vertical-align: top;\n",
              "    }\n",
              "\n",
              "    .dataframe thead th {\n",
              "        text-align: right;\n",
              "    }\n",
              "</style>\n",
              "<table border=\"1\" class=\"dataframe\">\n",
              "  <thead>\n",
              "    <tr style=\"text-align: right;\">\n",
              "      <th></th>\n",
              "      <th>Close</th>\n",
              "    </tr>\n",
              "  </thead>\n",
              "  <tbody>\n",
              "    <tr>\n",
              "      <th>0</th>\n",
              "      <td>54.950001</td>\n",
              "    </tr>\n",
              "    <tr>\n",
              "      <th>1</th>\n",
              "      <td>54.075001</td>\n",
              "    </tr>\n",
              "    <tr>\n",
              "      <th>2</th>\n",
              "      <td>53.060001</td>\n",
              "    </tr>\n",
              "    <tr>\n",
              "      <th>3</th>\n",
              "      <td>53.325001</td>\n",
              "    </tr>\n",
              "    <tr>\n",
              "      <th>4</th>\n",
              "      <td>54.715000</td>\n",
              "    </tr>\n",
              "  </tbody>\n",
              "</table>\n",
              "</div>\n",
              "      <button class=\"colab-df-convert\" onclick=\"convertToInteractive('df-68f45f26-8aa3-42c7-8c1c-b214013a1e03')\"\n",
              "              title=\"Convert this dataframe to an interactive table.\"\n",
              "              style=\"display:none;\">\n",
              "        \n",
              "  <svg xmlns=\"http://www.w3.org/2000/svg\" height=\"24px\"viewBox=\"0 0 24 24\"\n",
              "       width=\"24px\">\n",
              "    <path d=\"M0 0h24v24H0V0z\" fill=\"none\"/>\n",
              "    <path d=\"M18.56 5.44l.94 2.06.94-2.06 2.06-.94-2.06-.94-.94-2.06-.94 2.06-2.06.94zm-11 1L8.5 8.5l.94-2.06 2.06-.94-2.06-.94L8.5 2.5l-.94 2.06-2.06.94zm10 10l.94 2.06.94-2.06 2.06-.94-2.06-.94-.94-2.06-.94 2.06-2.06.94z\"/><path d=\"M17.41 7.96l-1.37-1.37c-.4-.4-.92-.59-1.43-.59-.52 0-1.04.2-1.43.59L10.3 9.45l-7.72 7.72c-.78.78-.78 2.05 0 2.83L4 21.41c.39.39.9.59 1.41.59.51 0 1.02-.2 1.41-.59l7.78-7.78 2.81-2.81c.8-.78.8-2.07 0-2.86zM5.41 20L4 18.59l7.72-7.72 1.47 1.35L5.41 20z\"/>\n",
              "  </svg>\n",
              "      </button>\n",
              "      \n",
              "  <style>\n",
              "    .colab-df-container {\n",
              "      display:flex;\n",
              "      flex-wrap:wrap;\n",
              "      gap: 12px;\n",
              "    }\n",
              "\n",
              "    .colab-df-convert {\n",
              "      background-color: #E8F0FE;\n",
              "      border: none;\n",
              "      border-radius: 50%;\n",
              "      cursor: pointer;\n",
              "      display: none;\n",
              "      fill: #1967D2;\n",
              "      height: 32px;\n",
              "      padding: 0 0 0 0;\n",
              "      width: 32px;\n",
              "    }\n",
              "\n",
              "    .colab-df-convert:hover {\n",
              "      background-color: #E2EBFA;\n",
              "      box-shadow: 0px 1px 2px rgba(60, 64, 67, 0.3), 0px 1px 3px 1px rgba(60, 64, 67, 0.15);\n",
              "      fill: #174EA6;\n",
              "    }\n",
              "\n",
              "    [theme=dark] .colab-df-convert {\n",
              "      background-color: #3B4455;\n",
              "      fill: #D2E3FC;\n",
              "    }\n",
              "\n",
              "    [theme=dark] .colab-df-convert:hover {\n",
              "      background-color: #434B5C;\n",
              "      box-shadow: 0px 1px 3px 1px rgba(0, 0, 0, 0.15);\n",
              "      filter: drop-shadow(0px 1px 2px rgba(0, 0, 0, 0.3));\n",
              "      fill: #FFFFFF;\n",
              "    }\n",
              "  </style>\n",
              "\n",
              "      <script>\n",
              "        const buttonEl =\n",
              "          document.querySelector('#df-68f45f26-8aa3-42c7-8c1c-b214013a1e03 button.colab-df-convert');\n",
              "        buttonEl.style.display =\n",
              "          google.colab.kernel.accessAllowed ? 'block' : 'none';\n",
              "\n",
              "        async function convertToInteractive(key) {\n",
              "          const element = document.querySelector('#df-68f45f26-8aa3-42c7-8c1c-b214013a1e03');\n",
              "          const dataTable =\n",
              "            await google.colab.kernel.invokeFunction('convertToInteractive',\n",
              "                                                     [key], {});\n",
              "          if (!dataTable) return;\n",
              "\n",
              "          const docLinkHtml = 'Like what you see? Visit the ' +\n",
              "            '<a target=\"_blank\" href=https://colab.research.google.com/notebooks/data_table.ipynb>data table notebook</a>'\n",
              "            + ' to learn more about interactive tables.';\n",
              "          element.innerHTML = '';\n",
              "          dataTable['output_type'] = 'display_data';\n",
              "          await google.colab.output.renderOutput(dataTable, element);\n",
              "          const docLink = document.createElement('div');\n",
              "          docLink.innerHTML = docLinkHtml;\n",
              "          element.appendChild(docLink);\n",
              "        }\n",
              "      </script>\n",
              "    </div>\n",
              "  </div>\n",
              "  "
            ]
          },
          "metadata": {},
          "execution_count": 33
        }
      ]
    },
    {
      "cell_type": "code",
      "source": [
        "input_data=scaler.fit_transform(final_df)\n",
        "input_data"
      ],
      "metadata": {
        "colab": {
          "base_uri": "https://localhost:8080/"
        },
        "id": "wdzqLK1PV801",
        "outputId": "c7e24ff8-3631-4a16-b33a-3260f95ed5c6"
      },
      "execution_count": 34,
      "outputs": [
        {
          "output_type": "execute_result",
          "data": {
            "text/plain": [
              "array([[0.13247419],\n",
              "       [0.12649996],\n",
              "       [0.11956987],\n",
              "       ...,\n",
              "       [0.76376211],\n",
              "       [0.74942392],\n",
              "       [0.75352058]])"
            ]
          },
          "metadata": {},
          "execution_count": 34
        }
      ]
    },
    {
      "cell_type": "code",
      "source": [
        "input_data.shape"
      ],
      "metadata": {
        "colab": {
          "base_uri": "https://localhost:8080/"
        },
        "id": "YLhlZZl_WHPN",
        "outputId": "755a4356-3524-4d16-a279-23ad002d50e4"
      },
      "execution_count": 35,
      "outputs": [
        {
          "output_type": "execute_result",
          "data": {
            "text/plain": [
              "(1094, 1)"
            ]
          },
          "metadata": {},
          "execution_count": 35
        }
      ]
    },
    {
      "cell_type": "code",
      "source": [
        "x_test = []\n",
        "y_test = []\n",
        "\n",
        "for i in range(100,input_data.shape[0]):\n",
        "  x_test.append(input_data[i-100:i])\n",
        "  y_test.append(input_data[i,0])"
      ],
      "metadata": {
        "id": "4o94zjmzWOSo"
      },
      "execution_count": 36,
      "outputs": []
    },
    {
      "cell_type": "code",
      "source": [
        "x_test,y_test=np.array(x_test),np.array(y_test)\n",
        "print(x_test.shape)\n",
        "print(y_test.shape)"
      ],
      "metadata": {
        "colab": {
          "base_uri": "https://localhost:8080/"
        },
        "id": "gcIjIXsAWrZe",
        "outputId": "64383ba7-626e-4e29-8898-469379719604"
      },
      "execution_count": 37,
      "outputs": [
        {
          "output_type": "stream",
          "name": "stdout",
          "text": [
            "(994, 100, 1)\n",
            "(994,)\n"
          ]
        }
      ]
    },
    {
      "cell_type": "code",
      "source": [
        "#making prediction\n",
        "y_predicted=model.predict(x_test)"
      ],
      "metadata": {
        "colab": {
          "base_uri": "https://localhost:8080/"
        },
        "id": "hvyv6VUnW3v1",
        "outputId": "cf0bfe96-83a5-4227-ef36-4a31e932fbff"
      },
      "execution_count": 38,
      "outputs": [
        {
          "output_type": "stream",
          "name": "stdout",
          "text": [
            "32/32 [==============================] - 3s 71ms/step\n"
          ]
        }
      ]
    },
    {
      "cell_type": "code",
      "source": [
        "y_predicted.shape"
      ],
      "metadata": {
        "colab": {
          "base_uri": "https://localhost:8080/"
        },
        "id": "QXpTCekxZvAh",
        "outputId": "c3dc72f5-3d03-4c4a-fe50-513cd499a1a7"
      },
      "execution_count": 39,
      "outputs": [
        {
          "output_type": "execute_result",
          "data": {
            "text/plain": [
              "(994, 1)"
            ]
          },
          "metadata": {},
          "execution_count": 39
        }
      ]
    },
    {
      "cell_type": "code",
      "source": [
        "y_test"
      ],
      "metadata": {
        "colab": {
          "base_uri": "https://localhost:8080/"
        },
        "id": "Lw5c5x0_XC9A",
        "outputId": "7707abe5-8f8e-44c3-9206-8dc90a290272"
      },
      "execution_count": 40,
      "outputs": [
        {
          "output_type": "execute_result",
          "data": {
            "text/plain": [
              "array([0.08340019, 0.07945721, 0.07612869, 0.07899633, 0.07942306,\n",
              "       0.08152257, 0.08372451, 0.08846975, 0.09073996, 0.09132031,\n",
              "       0.09355637, 0.09884784, 0.09782367, 0.09973542, 0.09688486,\n",
              "       0.09674831, 0.0973628 , 0.09739694, 0.10401981, 0.10526585,\n",
              "       0.10640949, 0.1114449 , 0.1108987 , 0.10768968, 0.1060169 ,\n",
              "       0.10654605, 0.09982077, 0.11663396, 0.11429546, 0.11873346,\n",
              "       0.11315182, 0.10355893, 0.1036272 , 0.09990612, 0.0938636 ,\n",
              "       0.0743023 , 0.07932065, 0.08317828, 0.08174448, 0.079901  ,\n",
              "       0.06981308, 0.0758044 , 0.06928394, 0.06395836, 0.06278058,\n",
              "       0.06151744, 0.06006658, 0.06163694, 0.05612359, 0.05310233,\n",
              "       0.06392421, 0.06887427, 0.07344884, 0.08186395, 0.08601178,\n",
              "       0.08981821, 0.08875993, 0.08869163, 0.08628489, 0.08824784,\n",
              "       0.0960314 , 0.09504138, 0.09775541, 0.09659469, 0.09625331,\n",
              "       0.09111549, 0.09833576, 0.09823335, 0.09512674, 0.10132287,\n",
              "       0.10333702, 0.10620467, 0.10589741, 0.09871128, 0.10079373,\n",
              "       0.10419049, 0.10166425, 0.10430998, 0.10757021, 0.10635828,\n",
              "       0.10439533, 0.10833832, 0.10309806, 0.11100111, 0.11376632,\n",
              "       0.11347614, 0.11065973, 0.11188872, 0.11520012, 0.11366391,\n",
              "       0.12093538, 0.11306647, 0.10553897, 0.08730903, 0.09355637,\n",
              "       0.09703848, 0.10453186, 0.100367  , 0.09949645, 0.11398822,\n",
              "       0.10337117, 0.10164719, 0.10977213, 0.11634379, 0.11636084,\n",
              "       0.12025262, 0.11994539, 0.10318341, 0.10975507, 0.10577794,\n",
              "       0.10811641, 0.11405649, 0.11359564, 0.10840658, 0.11436375,\n",
              "       0.12134505, 0.12131091, 0.12286421, 0.12718272, 0.13894341,\n",
              "       0.13808995, 0.13068192, 0.13264487, 0.13401041, 0.13754375,\n",
              "       0.13445422, 0.12894085, 0.13063071, 0.1288555 , 0.1345737 ,\n",
              "       0.13262781, 0.13080141, 0.13959205, 0.14065033, 0.13104038,\n",
              "       0.13421526, 0.14478108, 0.14486643, 0.14032601, 0.14481523,\n",
              "       0.1500384 , 0.16048478, 0.15990441, 0.15896562, 0.15734402,\n",
              "       0.15889733, 0.16082616, 0.16782452, 0.16688574, 0.172382  ,\n",
              "       0.17306478, 0.17818555, 0.18240165, 0.17256976, 0.17251856,\n",
              "       0.18190663, 0.19395751, 0.19682513, 0.19619358, 0.19638131,\n",
              "       0.20011948, 0.20133143, 0.20484768, 0.20443799, 0.20872238,\n",
              "       0.20559873, 0.21092432, 0.21321159, 0.21182899, 0.20653752,\n",
              "       0.20452336, 0.20413075, 0.21196552, 0.20841514, 0.21447469,\n",
              "       0.21346762, 0.20819323, 0.20015365, 0.20406246, 0.21061703,\n",
              "       0.21937355, 0.21290435, 0.21556715, 0.21947596, 0.22065374,\n",
              "       0.22695229, 0.23499187, 0.23593071, 0.23478705, 0.23526499,\n",
              "       0.23427499, 0.24205855, 0.2425194 , 0.25214647, 0.25195868,\n",
              "       0.25489459, 0.25853034, 0.26996673, 0.2649825 , 0.26902789,\n",
              "       0.26662118, 0.27481438, 0.28580696, 0.28700178, 0.29831868,\n",
              "       0.29101305, 0.28872578, 0.29538277, 0.30133996, 0.297653  ,\n",
              "       0.29958183, 0.30219342, 0.30062303, 0.28464627, 0.29956475,\n",
              "       0.31091577, 0.31011351, 0.28560214, 0.28415125, 0.30154478,\n",
              "       0.30598279, 0.31240078, 0.30355894, 0.30615344, 0.30284201,\n",
              "       0.31579759, 0.31182043, 0.31195702, 0.30180081, 0.30968678,\n",
              "       0.30401979, 0.29164461, 0.26626269, 0.24902277, 0.25682342,\n",
              "       0.22417   , 0.22389688, 0.26733806, 0.25113939, 0.27404625,\n",
              "       0.25728432, 0.25064437, 0.21162416, 0.24434582, 0.22743022,\n",
              "       0.18100196, 0.23176582, 0.17072631, 0.18890501, 0.17833917,\n",
              "       0.17511308, 0.14858753, 0.14027481, 0.17869763, 0.17637622,\n",
              "       0.19842964, 0.18016558, 0.19223351, 0.1913459 , 0.16850731,\n",
              "       0.17536911, 0.16936077, 0.20530853, 0.20011948, 0.21145346,\n",
              "       0.21473072, 0.22370915, 0.24726464, 0.24279252, 0.24665018,\n",
              "       0.24001023, 0.2299906 , 0.21537936, 0.22857388, 0.22674746,\n",
              "       0.24030043, 0.24064183, 0.23280702, 0.24842539, 0.25878636,\n",
              "       0.25071266, 0.25769396, 0.26520441, 0.27044467, 0.27575317,\n",
              "       0.28666042, 0.29499021, 0.28884528, 0.28242724, 0.28565335,\n",
              "       0.28252965, 0.29490483, 0.29179827, 0.30219342, 0.29813094,\n",
              "       0.30161307, 0.29792612, 0.30028163, 0.30052062, 0.29999148,\n",
              "       0.30666555, 0.30920884, 0.31224716, 0.3074678 , 0.32313733,\n",
              "       0.32648288, 0.34445677, 0.35956303, 0.33064778, 0.33559784,\n",
              "       0.34274984, 0.35826576, 0.35742938, 0.35766837, 0.35423745,\n",
              "       0.36985577, 0.38293079, 0.37188701, 0.38004609, 0.36091152,\n",
              "       0.37482292, 0.3799778 , 0.37880002, 0.37880002, 0.39542547,\n",
              "       0.39344544, 0.4082615 , 0.41106088, 0.41220449, 0.40918326,\n",
              "       0.41997101, 0.42452847, 0.41631818, 0.41498678, 0.42884698,\n",
              "       0.4195784 , 0.42143894, 0.39120937, 0.38963898, 0.40462575,\n",
              "       0.39399167, 0.40619614, 0.41404799, 0.4828028 , 0.50108391,\n",
              "       0.50605106, 0.50876506, 0.53498335, 0.51593415, 0.52696085,\n",
              "       0.50407102, 0.52888968, 0.54254505, 0.54184521, 0.53979688,\n",
              "       0.54631734, 0.54730733, 0.56483745, 0.6064522 , 0.61660836,\n",
              "       0.60955876, 0.62114877, 0.61082192, 0.60943932, 0.63833743,\n",
              "       0.67343174, 0.65445078, 0.58262354, 0.58316977, 0.5275924 ,\n",
              "       0.55831699, 0.53216694, 0.5219937 , 0.54493473, 0.54616372,\n",
              "       0.52288128, 0.51065972, 0.48676281, 0.50888456, 0.52069642,\n",
              "       0.48867461, 0.49618506, 0.52390545, 0.54220365, 0.53626354,\n",
              "       0.54800717, 0.55469833, 0.52895792, 0.55271829, 0.52991384,\n",
              "       0.54302299, 0.54227194, 0.55592731, 0.60665703, 0.58412564,\n",
              "       0.58474016, 0.58146285, 0.56992404, 0.54916792, 0.55961427,\n",
              "       0.55524455, 0.54759753, 0.54274988, 0.54281817, 0.55340105,\n",
              "       0.51653153, 0.54466162, 0.50055477, 0.49994025, 0.51134253,\n",
              "       0.54213536, 0.56999233, 0.56767094, 0.55148931, 0.54909963,\n",
              "       0.57313306, 0.57122132, 0.57156272, 0.57866352, 0.5724503 ,\n",
              "       0.56316464, 0.56732954, 0.55845352, 0.53462491, 0.54363746,\n",
              "       0.54950927, 0.55333276, 0.57012891, 0.59518651, 0.59764448,\n",
              "       0.59668861, 0.59197749, 0.60221902, 0.60652044, 0.58876847,\n",
              "       0.59873688, 0.59306994, 0.58876847, 0.63041735, 0.62993941,\n",
              "       0.63601605, 0.62208761, 0.63280703, 0.65772814, 0.65144668,\n",
              "       0.65834261, 0.6905693 , 0.67814286, 0.67029106, 0.66325855,\n",
              "       0.64086375, 0.65178799, 0.62167792, 0.65117352, 0.65888884,\n",
              "       0.63792779, 0.63669886, 0.6509687 , 0.63744991, 0.62536487,\n",
              "       0.63007599, 0.65875226, 0.69179823, 0.70681923, 0.73310576,\n",
              "       0.73474444, 0.72723394, 0.69330033, 0.65827437, 0.67315868,\n",
              "       0.67896225, 0.67179316, 0.69534866, 0.69104718, 0.6920714 ,\n",
              "       0.68592642, 0.68169329, 0.67991813, 0.6815567 , 0.6666724 ,\n",
              "       0.65062729, 0.64291208, 0.64400443, 0.61758131, 0.61662544,\n",
              "       0.61314331, 0.58337459, 0.58521809, 0.62980288, 0.61157297,\n",
              "       0.59068021, 0.57750277, 0.5863105 , 0.55176242, 0.58405735,\n",
              "       0.57647866, 0.58999745, 0.5836477 , 0.60385765, 0.61464541,\n",
              "       0.609115  , 0.58023386, 0.5765469 , 0.59976105, 0.59395752,\n",
              "       0.57722966, 0.5806435 , 0.58487669, 0.58610567, 0.57593244,\n",
              "       0.59129473, 0.59709825, 0.61689856, 0.61901512, 0.63055393,\n",
              "       0.64735003, 0.66537512, 0.65335843, 0.67513866, 0.65875226,\n",
              "       0.67561665, 0.67329526, 0.67793804, 0.66612617, 0.66878896,\n",
              "       0.65813779, 0.67438772, 0.67711875, 0.6748656 , 0.66933519,\n",
              "       0.66865238, 0.65486053, 0.66223434, 0.63021252, 0.6319195 ,\n",
              "       0.6431169 , 0.64632592, 0.62338484, 0.61696685, 0.59552786,\n",
              "       0.6105488 , 0.62748144, 0.61942477, 0.60972946, 0.60863706,\n",
              "       0.62652557, 0.61368953, 0.62509176, 0.62372624, 0.62338484,\n",
              "       0.61266537, 0.60809083, 0.60583768, 0.61116327, 0.60078521,\n",
              "       0.61683026, 0.61689856, 0.62263379, 0.62529658, 0.61833236,\n",
              "       0.62679868, 0.64816932, 0.64243409, 0.64591617, 0.65711357,\n",
              "       0.64803284, 0.66059576, 0.67206622, 0.67015448, 0.6681745 ,\n",
              "       0.66612617, 0.67752839, 0.68811133, 0.6924128 , 0.69452937,\n",
              "       0.71289586, 0.72696088, 0.7443715 , 0.73529067, 0.74805841,\n",
              "       0.74389351, 0.75167707, 0.77564222, 0.77106768, 0.75679784,\n",
              "       0.72989674, 0.75515916, 0.75003839, 0.75959721, 0.77161391,\n",
              "       0.77454987, 0.75939239, 0.74717078, 0.75167707, 0.75317917,\n",
              "       0.75085778, 0.7634207 , 0.76062133, 0.76137238, 0.75509092,\n",
              "       0.75474951, 0.75140401, 0.75317917, 0.77386705, 0.77530091,\n",
              "       0.78909277, 0.78274307, 0.75659302, 0.7589144 , 0.76908769,\n",
              "       0.77946581, 0.77885124, 0.77024839, 0.76464964, 0.77188707,\n",
              "       0.80274814, 0.79394047, 0.79858325, 0.80636681, 0.81080486,\n",
              "       0.82712303, 0.81633527, 0.80923453, 0.77441328, 0.77837335,\n",
              "       0.76860971, 0.77482293, 0.77318424, 0.75454469, 0.73324234,\n",
              "       0.73658784, 0.75311093, 0.75980204, 0.7604165 , 0.74983357,\n",
              "       0.72620983, 0.73249129, 0.72341046, 0.73126225, 0.70729711,\n",
              "       0.72074766, 0.7268243 , 0.73563197, 0.73296917, 0.73235471,\n",
              "       0.72347869, 0.71938215, 0.73884099, 0.7462149 , 0.75789029,\n",
              "       0.77297942, 0.77639327, 0.77789536, 0.77250154, 0.77216013,\n",
              "       0.77680301, 0.77359399, 0.798993  , 0.78008027, 0.77434504,\n",
              "       0.78158237, 0.79161908, 0.78800042, 0.79018522, 0.78444999,\n",
              "       0.7869762 , 0.76724419, 0.76690279, 0.78137755, 0.78144579,\n",
              "       0.78827348, 0.80527445, 0.83517965, 0.8534779 , 0.85668693,\n",
              "       0.85934972, 0.86296839, 0.82794232, 0.85136134, 0.88590942,\n",
              "       0.88229075, 0.87539472, 0.86228557, 0.886046  , 0.92605614,\n",
              "       0.95268418, 0.94913376, 0.98252114, 0.95719048, 0.94756342,\n",
              "       0.98149703, 0.93343006, 0.92578308, 0.9162926 , 0.93841434,\n",
              "       0.95650767, 0.96087739, 0.98852954, 0.98142868, 0.98204326,\n",
              "       0.97398653, 0.96968516, 1.        , 0.98422806, 0.95159173,\n",
              "       0.9316549 , 0.93281559, 0.93295217, 0.95268418, 0.95575662,\n",
              "       0.93295217, 0.93896057, 0.91663401, 0.89225911, 0.88051549,\n",
              "       0.86617741, 0.86078348, 0.84822056, 0.84760609, 0.84439707,\n",
              "       0.92025267, 0.95063586, 0.94947516, 0.95787319, 0.93779977,\n",
              "       0.93431769, 0.92933351, 0.95097726, 0.96087739, 0.93247418,\n",
              "       0.90871386, 0.91035255, 0.93704872, 0.93541014, 0.91035255,\n",
              "       0.89956479, 0.87921831, 0.85020064, 0.86843056, 0.88283698,\n",
              "       0.88468038, 0.87157123, 0.89451226, 0.89225911, 0.87136641,\n",
              "       0.8449433 , 0.8322438 , 0.86986431, 0.83961771, 0.81374072,\n",
              "       0.78567892, 0.81619869, 0.84692328, 0.85395579, 0.87689682,\n",
              "       0.88645564, 0.9099429 , 0.91943338, 0.94578826, 0.95022621,\n",
              "       0.95623461, 0.97917564, 0.97105068, 0.94947516, 0.94742683,\n",
              "       0.97562521, 0.9525476 , 0.9304942 , 0.93261077, 0.91861399,\n",
              "       0.88898185, 0.90202276, 0.92073055, 0.88584107, 0.88433908,\n",
              "       0.9002475 , 0.8990868 , 0.89355639, 0.86194417, 0.86938643,\n",
              "       0.82787408, 0.82630374, 0.87457543, 0.83367755, 0.83579422,\n",
              "       0.84617223, 0.89082536, 0.82766926, 0.83115134, 0.79551081,\n",
              "       0.81223862, 0.75754889, 0.73064779, 0.76171378, 0.75099426,\n",
              "       0.77625679, 0.71876768, 0.6950756 , 0.69671418, 0.73440303,\n",
              "       0.7156269 , 0.71671935, 0.73897757, 0.77898782, 0.77352565,\n",
              "       0.77263812, 0.78970734, 0.74990191, 0.75509092, 0.77263812,\n",
              "       0.76751736, 0.73119401, 0.6935735 , 0.65772814, 0.66373644,\n",
              "       0.68196635, 0.6453017 , 0.65554323, 0.68497055, 0.68142022,\n",
              "       0.70135706, 0.72450291, 0.72450291, 0.69569006, 0.70791158,\n",
              "       0.69077412, 0.70586325, 0.7238201 , 0.73310576, 0.75652478,\n",
              "       0.76123579, 0.74641973, 0.75317917, 0.75065296, 0.77099944,\n",
              "       0.78260649, 0.76144072, 0.78827348, 0.80220191, 0.81797396,\n",
              "       0.809371  , 0.80158745, 0.79237013, 0.82780574, 0.83162933,\n",
              "       0.86686011, 0.86003243, 0.8497909 , 0.89157641, 0.8893915 ,\n",
              "       0.88625082, 0.88297346, 0.88331486, 0.91281052, 0.90768975,\n",
              "       0.93233771, 0.93977986, 0.9386874 , 0.94906552, 0.94633438,\n",
              "       0.92837763, 0.90140829, 0.8990868 , 0.90113513, 0.91820434,\n",
              "       0.87443885, 0.8591449 , 0.8422805 , 0.8307417 , 0.83579422,\n",
              "       0.82111463, 0.8123752 , 0.82213885, 0.81189732, 0.83176581,\n",
              "       0.87314157, 0.80766408, 0.81770079, 0.79762737, 0.78622515,\n",
              "       0.8120338 , 0.82855679, 0.80684479, 0.80015369, 0.78438165,\n",
              "       0.78670314, 0.79346248, 0.78035334, 0.73010156, 0.70087907,\n",
              "       0.72989674, 0.75481786, 0.75686608, 0.75024321, 0.71378339,\n",
              "       0.71603654, 0.70620466, 0.70183494, 0.73358375, 0.70210811,\n",
              "       0.72962368, 0.73877275, 0.7395238 , 0.73631478, 0.76280624,\n",
              "       0.77769054, 0.79742255, 0.77700784, 0.74594184, 0.82063675,\n",
              "       0.80425024, 0.78588375, 0.74751218, 0.70552195, 0.70210811,\n",
              "       0.70579501, 0.70975508, 0.67814286, 0.7600751 , 0.77939746,\n",
              "       0.76970216, 0.78171885, 0.77318424, 0.78636173, 0.79025346,\n",
              "       0.76785866, 0.78267472, 0.78875147, 0.76854147, 0.74198177,\n",
              "       0.72115731, 0.76799524, 0.76990698, 0.76649314, 0.75843652,\n",
              "       0.73303752, 0.71958697, 0.73126225, 0.72791675, 0.74382528,\n",
              "       0.75051638, 0.73508585, 0.68927202, 0.67568489, 0.66107364,\n",
              "       0.66059576, 0.68210293, 0.66011777, 0.65759156, 0.64509688,\n",
              "       0.61785443, 0.64222927, 0.64441407, 0.61123156, 0.62003929,\n",
              "       0.61089016, 0.64229751, 0.64591617, 0.64987624, 0.66872072,\n",
              "       0.6681745 , 0.67739181, 0.68544853, 0.68046435, 0.680874  ,\n",
              "       0.69862592, 0.72074766, 0.73044296, 0.72586843, 0.74020661,\n",
              "       0.75365706, 0.73365199, 0.74245965, 0.75024321, 0.78704454,\n",
              "       0.81217038, 0.79325766, 0.81319449, 0.79455494, 0.78738584,\n",
              "       0.78834172, 0.80773243, 0.80329437, 0.81783737, 0.80677655,\n",
              "       0.79885641, 0.77106768, 0.77400364, 0.77734914, 0.75898275,\n",
              "       0.76724419, 0.76376211, 0.74942392, 0.75352058])"
            ]
          },
          "metadata": {},
          "execution_count": 40
        }
      ]
    },
    {
      "cell_type": "code",
      "source": [
        "y_predicted.shape"
      ],
      "metadata": {
        "colab": {
          "base_uri": "https://localhost:8080/"
        },
        "id": "awycLJwkXIFu",
        "outputId": "98d3562b-f072-45af-a860-0172d76aace2"
      },
      "execution_count": 41,
      "outputs": [
        {
          "output_type": "execute_result",
          "data": {
            "text/plain": [
              "(994, 1)"
            ]
          },
          "metadata": {},
          "execution_count": 41
        }
      ]
    },
    {
      "cell_type": "code",
      "source": [
        "scaler.scale_"
      ],
      "metadata": {
        "colab": {
          "base_uri": "https://localhost:8080/"
        },
        "id": "OcgNylRfXMTD",
        "outputId": "500f9e56-246c-4070-c563-7957e02b09f9"
      },
      "execution_count": 42,
      "outputs": [
        {
          "output_type": "execute_result",
          "data": {
            "text/plain": [
              "array([0.00682769])"
            ]
          },
          "metadata": {},
          "execution_count": 42
        }
      ]
    },
    {
      "cell_type": "code",
      "source": [
        "scale_factor=1/0.00682769\n",
        "y_predicted=y_predicted*scale_factor\n",
        "y_test=y_test*scale_factor"
      ],
      "metadata": {
        "id": "aX-f3l38XQFN"
      },
      "execution_count": 43,
      "outputs": []
    },
    {
      "cell_type": "code",
      "source": [
        "plt.figure(figsize=(12,6))\n",
        "plt.plot(y_test,'b',label='Original Price')\n",
        "plt.plot(y_predicted,'r',label='Predicted Price')\n",
        "plt.xlabel('Time')\n",
        "plt.ylabel('Price')\n",
        "plt.legend()\n",
        "plt.show()"
      ],
      "metadata": {
        "colab": {
          "base_uri": "https://localhost:8080/",
          "height": 542
        },
        "id": "QuHG1HpOXjK1",
        "outputId": "36673ab7-7179-4b5f-efb7-c2c09d99786a"
      },
      "execution_count": 44,
      "outputs": [
        {
          "output_type": "display_data",
          "data": {
            "text/plain": [
              "<Figure size 1200x600 with 1 Axes>"
            ],
            "image/png": "[encoded data removed]"
          },
          "metadata": {}
        }
      ]
    }
  ]
}